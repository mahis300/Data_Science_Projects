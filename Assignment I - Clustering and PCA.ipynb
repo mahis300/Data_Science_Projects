{
 "cells": [
  {
   "cell_type": "markdown",
   "metadata": {},
   "source": [
    "### Background \n",
    ">> 1. The CEO of the NGO needs to decide how to use this money strategically and effectively\n",
    ">> 2. The significant issues that come while making this decision are mostly related to choosing the countries that are in the direst need of aid\n",
    "\n",
    "### Key Objectives\n",
    ">> 1. As a Data Analyst categorise the countries using some socio-economic and health factors that determine the overall development of the country\n",
    ">> 2. Then suggest the countries which the CEO needs to focus on the most"
   ]
  },
  {
   "cell_type": "markdown",
   "metadata": {},
   "source": [
    "### Approach\n",
    ">> 1. Perform Outlier Analysis and decide to retain or remove variables\n",
    ">> 2. Perform PCA on the dataset and obtain the new dataset with the Principal Components. \n",
    ">>> 2.1 Choose the appropriate number of components k\n",
    ">>> 2.2 Perform clustering activity on this new dataset, i.e. the PCA modified dataset with the k components\n",
    ">> 3. Perform Outlier Analysis again and decide to retain or remove variables\n",
    ">> 4. Clustering: Try both \n",
    ">>> 4.1 K-means and \n",
    ">>> 4.2 Hierarchical clustering(both single and complete linkage) on this dataset to create the clusters\n",
    ">>> 4.3 Analyse the clusters and identify the ones which are in dire need of aid. Analyse the clusters by comparing how these three variables - [gdpp, child_mort and income] vary for each cluster of countries to recognise and differentiate the clusters of developed countries from the clusters of under-developed countries\n",
    ">> 5. Visualizations: Perform visualisations on the clusters that have been formed \n",
    ">>> 5.1 Choose the first two Principal Components (on the X-Y axes) and plotting a scatter plot of all the countries and differentiating the clusters. \n",
    ">>> 5.2 Do the same visualisation using any two of the original variables (like gdpp, child_mort, etc.) on the X-Y axes as well\n",
    ">> 6. Decide Final list of countries: The final list of countries depends on the number of components chosen and the number of clusters that finally form. \n",
    ">> 7. Report: Report back at least 5 countries which are in direst need of aid from the analysis work"
   ]
  },
  {
   "cell_type": "code",
   "execution_count": 215,
   "metadata": {},
   "outputs": [],
   "source": [
    "import pandas as pd\n",
    "import numpy as np\n",
    "from sklearn.preprocessing import StandardScaler\n",
    "from sklearn.decomposition import PCA\n",
    "import matplotlib.pyplot as plt\n",
    "import seaborn as sns\n",
    "%matplotlib inline\n",
    "from sklearn.decomposition import IncrementalPCA\n",
    "\n",
    "from sklearn.neighbors import NearestNeighbors\n",
    "from random import sample\n",
    "from numpy.random import uniform\n",
    "from math import isnan\n",
    "from sklearn.metrics import silhouette_score\n",
    "from sklearn.cluster import KMeans\n",
    "\n",
    "from scipy.cluster.hierarchy import linkage\n",
    "from scipy.cluster.hierarchy import dendrogram\n",
    "from scipy.cluster.hierarchy import cut_tree"
   ]
  },
  {
   "cell_type": "code",
   "execution_count": 132,
   "metadata": {},
   "outputs": [],
   "source": [
    "country_df = pd.read_csv(\"Country-data.csv\")"
   ]
  },
  {
   "cell_type": "markdown",
   "metadata": {},
   "source": [
    "### 1. Performing basic EDA to explore the shape, columns, data types and missing values"
   ]
  },
  {
   "cell_type": "code",
   "execution_count": 133,
   "metadata": {},
   "outputs": [
    {
     "data": {
      "text/html": [
       "<div>\n",
       "<style scoped>\n",
       "    .dataframe tbody tr th:only-of-type {\n",
       "        vertical-align: middle;\n",
       "    }\n",
       "\n",
       "    .dataframe tbody tr th {\n",
       "        vertical-align: top;\n",
       "    }\n",
       "\n",
       "    .dataframe thead th {\n",
       "        text-align: right;\n",
       "    }\n",
       "</style>\n",
       "<table border=\"1\" class=\"dataframe\">\n",
       "  <thead>\n",
       "    <tr style=\"text-align: right;\">\n",
       "      <th></th>\n",
       "      <th>country</th>\n",
       "      <th>child_mort</th>\n",
       "      <th>exports</th>\n",
       "      <th>health</th>\n",
       "      <th>imports</th>\n",
       "      <th>income</th>\n",
       "      <th>inflation</th>\n",
       "      <th>life_expec</th>\n",
       "      <th>total_fer</th>\n",
       "      <th>gdpp</th>\n",
       "    </tr>\n",
       "  </thead>\n",
       "  <tbody>\n",
       "    <tr>\n",
       "      <th>0</th>\n",
       "      <td>Afghanistan</td>\n",
       "      <td>90.2</td>\n",
       "      <td>10.0</td>\n",
       "      <td>7.58</td>\n",
       "      <td>44.9</td>\n",
       "      <td>1610</td>\n",
       "      <td>9.44</td>\n",
       "      <td>56.2</td>\n",
       "      <td>5.82</td>\n",
       "      <td>553</td>\n",
       "    </tr>\n",
       "    <tr>\n",
       "      <th>1</th>\n",
       "      <td>Albania</td>\n",
       "      <td>16.6</td>\n",
       "      <td>28.0</td>\n",
       "      <td>6.55</td>\n",
       "      <td>48.6</td>\n",
       "      <td>9930</td>\n",
       "      <td>4.49</td>\n",
       "      <td>76.3</td>\n",
       "      <td>1.65</td>\n",
       "      <td>4090</td>\n",
       "    </tr>\n",
       "    <tr>\n",
       "      <th>2</th>\n",
       "      <td>Algeria</td>\n",
       "      <td>27.3</td>\n",
       "      <td>38.4</td>\n",
       "      <td>4.17</td>\n",
       "      <td>31.4</td>\n",
       "      <td>12900</td>\n",
       "      <td>16.10</td>\n",
       "      <td>76.5</td>\n",
       "      <td>2.89</td>\n",
       "      <td>4460</td>\n",
       "    </tr>\n",
       "    <tr>\n",
       "      <th>3</th>\n",
       "      <td>Angola</td>\n",
       "      <td>119.0</td>\n",
       "      <td>62.3</td>\n",
       "      <td>2.85</td>\n",
       "      <td>42.9</td>\n",
       "      <td>5900</td>\n",
       "      <td>22.40</td>\n",
       "      <td>60.1</td>\n",
       "      <td>6.16</td>\n",
       "      <td>3530</td>\n",
       "    </tr>\n",
       "    <tr>\n",
       "      <th>4</th>\n",
       "      <td>Antigua and Barbuda</td>\n",
       "      <td>10.3</td>\n",
       "      <td>45.5</td>\n",
       "      <td>6.03</td>\n",
       "      <td>58.9</td>\n",
       "      <td>19100</td>\n",
       "      <td>1.44</td>\n",
       "      <td>76.8</td>\n",
       "      <td>2.13</td>\n",
       "      <td>12200</td>\n",
       "    </tr>\n",
       "  </tbody>\n",
       "</table>\n",
       "</div>"
      ],
      "text/plain": [
       "               country  child_mort  exports  health  imports  income  \\\n",
       "0          Afghanistan        90.2     10.0    7.58     44.9    1610   \n",
       "1              Albania        16.6     28.0    6.55     48.6    9930   \n",
       "2              Algeria        27.3     38.4    4.17     31.4   12900   \n",
       "3               Angola       119.0     62.3    2.85     42.9    5900   \n",
       "4  Antigua and Barbuda        10.3     45.5    6.03     58.9   19100   \n",
       "\n",
       "   inflation  life_expec  total_fer   gdpp  \n",
       "0       9.44        56.2       5.82    553  \n",
       "1       4.49        76.3       1.65   4090  \n",
       "2      16.10        76.5       2.89   4460  \n",
       "3      22.40        60.1       6.16   3530  \n",
       "4       1.44        76.8       2.13  12200  "
      ]
     },
     "execution_count": 133,
     "metadata": {},
     "output_type": "execute_result"
    }
   ],
   "source": [
    "country_df.head(5)"
   ]
  },
  {
   "cell_type": "code",
   "execution_count": 134,
   "metadata": {},
   "outputs": [
    {
     "data": {
      "text/plain": [
       "(167, 10)"
      ]
     },
     "execution_count": 134,
     "metadata": {},
     "output_type": "execute_result"
    }
   ],
   "source": [
    "country_df.shape"
   ]
  },
  {
   "cell_type": "code",
   "execution_count": 135,
   "metadata": {},
   "outputs": [
    {
     "name": "stdout",
     "output_type": "stream",
     "text": [
      "<class 'pandas.core.frame.DataFrame'>\n",
      "RangeIndex: 167 entries, 0 to 166\n",
      "Data columns (total 10 columns):\n",
      "country       167 non-null object\n",
      "child_mort    167 non-null float64\n",
      "exports       167 non-null float64\n",
      "health        167 non-null float64\n",
      "imports       167 non-null float64\n",
      "income        167 non-null int64\n",
      "inflation     167 non-null float64\n",
      "life_expec    167 non-null float64\n",
      "total_fer     167 non-null float64\n",
      "gdpp          167 non-null int64\n",
      "dtypes: float64(7), int64(2), object(1)\n",
      "memory usage: 13.1+ KB\n"
     ]
    }
   ],
   "source": [
    "country_df.info()"
   ]
  },
  {
   "cell_type": "code",
   "execution_count": 257,
   "metadata": {},
   "outputs": [
    {
     "data": {
      "text/html": [
       "<div>\n",
       "<style scoped>\n",
       "    .dataframe tbody tr th:only-of-type {\n",
       "        vertical-align: middle;\n",
       "    }\n",
       "\n",
       "    .dataframe tbody tr th {\n",
       "        vertical-align: top;\n",
       "    }\n",
       "\n",
       "    .dataframe thead th {\n",
       "        text-align: right;\n",
       "    }\n",
       "</style>\n",
       "<table border=\"1\" class=\"dataframe\">\n",
       "  <thead>\n",
       "    <tr style=\"text-align: right;\">\n",
       "      <th></th>\n",
       "      <th>child_mort</th>\n",
       "      <th>exports</th>\n",
       "      <th>health</th>\n",
       "      <th>imports</th>\n",
       "      <th>income</th>\n",
       "      <th>inflation</th>\n",
       "      <th>life_expec</th>\n",
       "      <th>total_fer</th>\n",
       "      <th>gdpp</th>\n",
       "    </tr>\n",
       "  </thead>\n",
       "  <tbody>\n",
       "    <tr>\n",
       "      <th>count</th>\n",
       "      <td>167.000000</td>\n",
       "      <td>167.000000</td>\n",
       "      <td>167.000000</td>\n",
       "      <td>167.000000</td>\n",
       "      <td>167.000000</td>\n",
       "      <td>167.000000</td>\n",
       "      <td>167.000000</td>\n",
       "      <td>167.000000</td>\n",
       "      <td>167.000000</td>\n",
       "    </tr>\n",
       "    <tr>\n",
       "      <th>mean</th>\n",
       "      <td>38.270060</td>\n",
       "      <td>41.108976</td>\n",
       "      <td>6.815689</td>\n",
       "      <td>46.890215</td>\n",
       "      <td>17144.688623</td>\n",
       "      <td>7.781832</td>\n",
       "      <td>70.555689</td>\n",
       "      <td>2.947964</td>\n",
       "      <td>12964.155689</td>\n",
       "    </tr>\n",
       "    <tr>\n",
       "      <th>std</th>\n",
       "      <td>40.328931</td>\n",
       "      <td>27.412010</td>\n",
       "      <td>2.746837</td>\n",
       "      <td>24.209589</td>\n",
       "      <td>19278.067698</td>\n",
       "      <td>10.570704</td>\n",
       "      <td>8.893172</td>\n",
       "      <td>1.513848</td>\n",
       "      <td>18328.704809</td>\n",
       "    </tr>\n",
       "    <tr>\n",
       "      <th>min</th>\n",
       "      <td>2.600000</td>\n",
       "      <td>0.109000</td>\n",
       "      <td>1.810000</td>\n",
       "      <td>0.065900</td>\n",
       "      <td>609.000000</td>\n",
       "      <td>-4.210000</td>\n",
       "      <td>32.100000</td>\n",
       "      <td>1.150000</td>\n",
       "      <td>231.000000</td>\n",
       "    </tr>\n",
       "    <tr>\n",
       "      <th>25%</th>\n",
       "      <td>8.250000</td>\n",
       "      <td>23.800000</td>\n",
       "      <td>4.920000</td>\n",
       "      <td>30.200000</td>\n",
       "      <td>3355.000000</td>\n",
       "      <td>1.810000</td>\n",
       "      <td>65.300000</td>\n",
       "      <td>1.795000</td>\n",
       "      <td>1330.000000</td>\n",
       "    </tr>\n",
       "    <tr>\n",
       "      <th>50%</th>\n",
       "      <td>19.300000</td>\n",
       "      <td>35.000000</td>\n",
       "      <td>6.320000</td>\n",
       "      <td>43.300000</td>\n",
       "      <td>9960.000000</td>\n",
       "      <td>5.390000</td>\n",
       "      <td>73.100000</td>\n",
       "      <td>2.410000</td>\n",
       "      <td>4660.000000</td>\n",
       "    </tr>\n",
       "    <tr>\n",
       "      <th>75%</th>\n",
       "      <td>62.100000</td>\n",
       "      <td>51.350000</td>\n",
       "      <td>8.600000</td>\n",
       "      <td>58.750000</td>\n",
       "      <td>22800.000000</td>\n",
       "      <td>10.750000</td>\n",
       "      <td>76.800000</td>\n",
       "      <td>3.880000</td>\n",
       "      <td>14050.000000</td>\n",
       "    </tr>\n",
       "    <tr>\n",
       "      <th>max</th>\n",
       "      <td>208.000000</td>\n",
       "      <td>200.000000</td>\n",
       "      <td>17.900000</td>\n",
       "      <td>174.000000</td>\n",
       "      <td>125000.000000</td>\n",
       "      <td>104.000000</td>\n",
       "      <td>82.800000</td>\n",
       "      <td>7.490000</td>\n",
       "      <td>105000.000000</td>\n",
       "    </tr>\n",
       "  </tbody>\n",
       "</table>\n",
       "</div>"
      ],
      "text/plain": [
       "       child_mort     exports      health     imports         income  \\\n",
       "count  167.000000  167.000000  167.000000  167.000000     167.000000   \n",
       "mean    38.270060   41.108976    6.815689   46.890215   17144.688623   \n",
       "std     40.328931   27.412010    2.746837   24.209589   19278.067698   \n",
       "min      2.600000    0.109000    1.810000    0.065900     609.000000   \n",
       "25%      8.250000   23.800000    4.920000   30.200000    3355.000000   \n",
       "50%     19.300000   35.000000    6.320000   43.300000    9960.000000   \n",
       "75%     62.100000   51.350000    8.600000   58.750000   22800.000000   \n",
       "max    208.000000  200.000000   17.900000  174.000000  125000.000000   \n",
       "\n",
       "        inflation  life_expec   total_fer           gdpp  \n",
       "count  167.000000  167.000000  167.000000     167.000000  \n",
       "mean     7.781832   70.555689    2.947964   12964.155689  \n",
       "std     10.570704    8.893172    1.513848   18328.704809  \n",
       "min     -4.210000   32.100000    1.150000     231.000000  \n",
       "25%      1.810000   65.300000    1.795000    1330.000000  \n",
       "50%      5.390000   73.100000    2.410000    4660.000000  \n",
       "75%     10.750000   76.800000    3.880000   14050.000000  \n",
       "max    104.000000   82.800000    7.490000  105000.000000  "
      ]
     },
     "execution_count": 257,
     "metadata": {},
     "output_type": "execute_result"
    }
   ],
   "source": [
    "country_df.describe()"
   ]
  },
  {
   "cell_type": "code",
   "execution_count": 136,
   "metadata": {},
   "outputs": [
    {
     "data": {
      "text/plain": [
       "country       0\n",
       "child_mort    0\n",
       "exports       0\n",
       "health        0\n",
       "imports       0\n",
       "income        0\n",
       "inflation     0\n",
       "life_expec    0\n",
       "total_fer     0\n",
       "gdpp          0\n",
       "dtype: int64"
      ]
     },
     "execution_count": 136,
     "metadata": {},
     "output_type": "execute_result"
    }
   ],
   "source": [
    "country_df.isnull().sum()"
   ]
  },
  {
   "cell_type": "markdown",
   "metadata": {},
   "source": [
    "#### Observations:\n",
    ">> 1. Dont think any data type changes are required\n",
    ">> 2. There aren't any issing values across columns as well\n",
    ">> 3. There are no categorical variables for which we need dummy variables creation"
   ]
  },
  {
   "cell_type": "code",
   "execution_count": 137,
   "metadata": {},
   "outputs": [],
   "source": [
    "country_num_df = country_df.drop('country',axis=1)"
   ]
  },
  {
   "cell_type": "markdown",
   "metadata": {},
   "source": [
    "### 2. Outlier Analysis - Before Doing PCA"
   ]
  },
  {
   "cell_type": "code",
   "execution_count": 251,
   "metadata": {},
   "outputs": [
    {
     "data": {
      "image/png": "[encoded data removed]",
      "text/plain": [
       "<Figure size 1440x864 with 9 Axes>"
      ]
     },
     "metadata": {
      "needs_background": "light"
     },
     "output_type": "display_data"
    }
   ],
   "source": [
    "plt.figure(figsize=(20, 12))\n",
    "plt.subplot(3,3,1)\n",
    "sns.boxplot(y = 'child_mort', data = country_num_df)\n",
    "plt.subplot(3,3,2)\n",
    "sns.boxplot(y = 'exports', data = country_num_df)\n",
    "plt.subplot(3,3,3)\n",
    "sns.boxplot(y = 'health', data = country_num_df)\n",
    "plt.subplot(3,3,4)\n",
    "sns.boxplot(y = 'imports', data = country_num_df)\n",
    "plt.subplot(3,3,5)\n",
    "sns.boxplot(y = 'income', data = country_num_df)\n",
    "plt.subplot(3,3,6)\n",
    "sns.boxplot(y = 'inflation', data = country_num_df)\n",
    "plt.subplot(3,3,7)\n",
    "sns.boxplot(y = 'life_expec', data = country_num_df)\n",
    "plt.subplot(3,3,8)\n",
    "sns.boxplot(y = 'total_fer', data = country_num_df)\n",
    "plt.subplot(3,3,9)\n",
    "sns.boxplot(y = 'gdpp', data = country_num_df)\n",
    "plt.show()"
   ]
  },
  {
   "cell_type": "code",
   "execution_count": 255,
   "metadata": {},
   "outputs": [
    {
     "data": {
      "text/html": [
       "<div>\n",
       "<style scoped>\n",
       "    .dataframe tbody tr th:only-of-type {\n",
       "        vertical-align: middle;\n",
       "    }\n",
       "\n",
       "    .dataframe tbody tr th {\n",
       "        vertical-align: top;\n",
       "    }\n",
       "\n",
       "    .dataframe thead th {\n",
       "        text-align: right;\n",
       "    }\n",
       "</style>\n",
       "<table border=\"1\" class=\"dataframe\">\n",
       "  <thead>\n",
       "    <tr style=\"text-align: right;\">\n",
       "      <th></th>\n",
       "      <th>country</th>\n",
       "      <th>child_mort</th>\n",
       "      <th>exports</th>\n",
       "      <th>health</th>\n",
       "      <th>imports</th>\n",
       "      <th>income</th>\n",
       "      <th>inflation</th>\n",
       "      <th>life_expec</th>\n",
       "      <th>total_fer</th>\n",
       "      <th>gdpp</th>\n",
       "    </tr>\n",
       "  </thead>\n",
       "  <tbody>\n",
       "  </tbody>\n",
       "</table>\n",
       "</div>"
      ],
      "text/plain": [
       "Empty DataFrame\n",
       "Columns: [country, child_mort, exports, health, imports, income, inflation, life_expec, total_fer, gdpp]\n",
       "Index: []"
      ]
     },
     "execution_count": 255,
     "metadata": {},
     "output_type": "execute_result"
    }
   ],
   "source": [
    "Q1 = country_df.gdpp.quantile(0.05)\n",
    "Q3 = country_df.gdpp.quantile(0.95)\n",
    "IQR = Q3 - Q1\n",
    "country_df[(country_df.gdpp <= (Q1 - 1.5*IQR)) | (country_df.gdpp >= (Q3 + 1.5*IQR))].head(5)"
   ]
  },
  {
   "cell_type": "code",
   "execution_count": 256,
   "metadata": {},
   "outputs": [
    {
     "data": {
      "text/html": [
       "<div>\n",
       "<style scoped>\n",
       "    .dataframe tbody tr th:only-of-type {\n",
       "        vertical-align: middle;\n",
       "    }\n",
       "\n",
       "    .dataframe tbody tr th {\n",
       "        vertical-align: top;\n",
       "    }\n",
       "\n",
       "    .dataframe thead th {\n",
       "        text-align: right;\n",
       "    }\n",
       "</style>\n",
       "<table border=\"1\" class=\"dataframe\">\n",
       "  <thead>\n",
       "    <tr style=\"text-align: right;\">\n",
       "      <th></th>\n",
       "      <th>country</th>\n",
       "      <th>child_mort</th>\n",
       "      <th>exports</th>\n",
       "      <th>health</th>\n",
       "      <th>imports</th>\n",
       "      <th>income</th>\n",
       "      <th>inflation</th>\n",
       "      <th>life_expec</th>\n",
       "      <th>total_fer</th>\n",
       "      <th>gdpp</th>\n",
       "    </tr>\n",
       "  </thead>\n",
       "  <tbody>\n",
       "    <tr>\n",
       "      <th>123</th>\n",
       "      <td>Qatar</td>\n",
       "      <td>9.0</td>\n",
       "      <td>62.3</td>\n",
       "      <td>1.81</td>\n",
       "      <td>23.8</td>\n",
       "      <td>125000</td>\n",
       "      <td>6.98</td>\n",
       "      <td>79.5</td>\n",
       "      <td>2.07</td>\n",
       "      <td>70300</td>\n",
       "    </tr>\n",
       "  </tbody>\n",
       "</table>\n",
       "</div>"
      ],
      "text/plain": [
       "    country  child_mort  exports  health  imports  income  inflation  \\\n",
       "123   Qatar         9.0     62.3    1.81     23.8  125000       6.98   \n",
       "\n",
       "     life_expec  total_fer   gdpp  \n",
       "123        79.5       2.07  70300  "
      ]
     },
     "execution_count": 256,
     "metadata": {},
     "output_type": "execute_result"
    }
   ],
   "source": [
    "Q1 = country_df.income.quantile(0.05)\n",
    "Q3 = country_df.income.quantile(0.95)\n",
    "IQR = Q3 - Q1\n",
    "country_df[(country_df.income <= (Q1 - 1.5*IQR)) | (country_df.income >= (Q3 + 1.5*IQR))].head(5)"
   ]
  },
  {
   "cell_type": "code",
   "execution_count": 258,
   "metadata": {},
   "outputs": [
    {
     "data": {
      "text/html": [
       "<div>\n",
       "<style scoped>\n",
       "    .dataframe tbody tr th:only-of-type {\n",
       "        vertical-align: middle;\n",
       "    }\n",
       "\n",
       "    .dataframe tbody tr th {\n",
       "        vertical-align: top;\n",
       "    }\n",
       "\n",
       "    .dataframe thead th {\n",
       "        text-align: right;\n",
       "    }\n",
       "</style>\n",
       "<table border=\"1\" class=\"dataframe\">\n",
       "  <thead>\n",
       "    <tr style=\"text-align: right;\">\n",
       "      <th></th>\n",
       "      <th>country</th>\n",
       "      <th>child_mort</th>\n",
       "      <th>exports</th>\n",
       "      <th>health</th>\n",
       "      <th>imports</th>\n",
       "      <th>income</th>\n",
       "      <th>inflation</th>\n",
       "      <th>life_expec</th>\n",
       "      <th>total_fer</th>\n",
       "      <th>gdpp</th>\n",
       "    </tr>\n",
       "  </thead>\n",
       "  <tbody>\n",
       "  </tbody>\n",
       "</table>\n",
       "</div>"
      ],
      "text/plain": [
       "Empty DataFrame\n",
       "Columns: [country, child_mort, exports, health, imports, income, inflation, life_expec, total_fer, gdpp]\n",
       "Index: []"
      ]
     },
     "execution_count": 258,
     "metadata": {},
     "output_type": "execute_result"
    }
   ],
   "source": [
    "Q1 = country_df.child_mort.quantile(0.05)\n",
    "Q3 = country_df.child_mort.quantile(0.95)\n",
    "IQR = Q3 - Q1\n",
    "country_df[(country_df.child_mort <= (Q1 - 1.5*IQR)) | (country_df.child_mort >= (Q3 + 1.5*IQR))].head(5)"
   ]
  },
  {
   "cell_type": "code",
   "execution_count": 259,
   "metadata": {},
   "outputs": [
    {
     "data": {
      "text/html": [
       "<div>\n",
       "<style scoped>\n",
       "    .dataframe tbody tr th:only-of-type {\n",
       "        vertical-align: middle;\n",
       "    }\n",
       "\n",
       "    .dataframe tbody tr th {\n",
       "        vertical-align: top;\n",
       "    }\n",
       "\n",
       "    .dataframe thead th {\n",
       "        text-align: right;\n",
       "    }\n",
       "</style>\n",
       "<table border=\"1\" class=\"dataframe\">\n",
       "  <thead>\n",
       "    <tr style=\"text-align: right;\">\n",
       "      <th></th>\n",
       "      <th>country</th>\n",
       "      <th>child_mort</th>\n",
       "      <th>exports</th>\n",
       "      <th>health</th>\n",
       "      <th>imports</th>\n",
       "      <th>income</th>\n",
       "      <th>inflation</th>\n",
       "      <th>life_expec</th>\n",
       "      <th>total_fer</th>\n",
       "      <th>gdpp</th>\n",
       "    </tr>\n",
       "  </thead>\n",
       "  <tbody>\n",
       "  </tbody>\n",
       "</table>\n",
       "</div>"
      ],
      "text/plain": [
       "Empty DataFrame\n",
       "Columns: [country, child_mort, exports, health, imports, income, inflation, life_expec, total_fer, gdpp]\n",
       "Index: []"
      ]
     },
     "execution_count": 259,
     "metadata": {},
     "output_type": "execute_result"
    }
   ],
   "source": [
    "Q1 = country_df.life_expec.quantile(0.05)\n",
    "Q3 = country_df.life_expec.quantile(0.95)\n",
    "IQR = Q3 - Q1\n",
    "country_df[(country_df.life_expec <= (Q1 - 1.5*IQR)) | (country_df.life_expec >= (Q3 + 1.5*IQR))].head(5)"
   ]
  },
  {
   "cell_type": "markdown",
   "metadata": {},
   "source": [
    "### Not many major outliers. Also, since the quantity of data is less it is better to retain all the values and perform Standardization"
   ]
  },
  {
   "cell_type": "markdown",
   "metadata": {},
   "source": [
    "### 3. Standardization"
   ]
  },
  {
   "cell_type": "code",
   "execution_count": 138,
   "metadata": {},
   "outputs": [
    {
     "name": "stderr",
     "output_type": "stream",
     "text": [
      "C:\\Users\\91810\\AppData\\Local\\Continuum\\anaconda3\\lib\\site-packages\\sklearn\\preprocessing\\data.py:645: DataConversionWarning: Data with input dtype int64, float64 were all converted to float64 by StandardScaler.\n",
      "  return self.partial_fit(X, y)\n",
      "C:\\Users\\91810\\AppData\\Local\\Continuum\\anaconda3\\lib\\site-packages\\sklearn\\base.py:464: DataConversionWarning: Data with input dtype int64, float64 were all converted to float64 by StandardScaler.\n",
      "  return self.fit(X, **fit_params).transform(X)\n"
     ]
    }
   ],
   "source": [
    "## First let us see if we can explain the dataset using fewer variables\n",
    "standard_scaler = StandardScaler()\n",
    "country_num_std_df = standard_scaler.fit_transform(country_num_df)"
   ]
  },
  {
   "cell_type": "code",
   "execution_count": 139,
   "metadata": {},
   "outputs": [
    {
     "data": {
      "text/plain": [
       "array([[ 1.29153238, -1.13827979,  0.27908825, ..., -1.61909203,\n",
       "         1.90288227, -0.67917961],\n",
       "       [-0.5389489 , -0.47965843, -0.09701618, ...,  0.64786643,\n",
       "        -0.85997281, -0.48562324],\n",
       "       [-0.27283273, -0.09912164, -0.96607302, ...,  0.67042323,\n",
       "        -0.0384044 , -0.46537561],\n",
       "       ...,\n",
       "       [-0.37231541,  1.13030491,  0.0088773 , ...,  0.28695762,\n",
       "        -0.66120626, -0.63775406],\n",
       "       [ 0.44841668, -0.40647827, -0.59727159, ..., -0.34463279,\n",
       "         1.14094382, -0.63775406],\n",
       "       [ 1.11495062, -0.15034774, -0.33801514, ..., -2.09278484,\n",
       "         1.6246091 , -0.62954556]])"
      ]
     },
     "execution_count": 139,
     "metadata": {},
     "output_type": "execute_result"
    }
   ],
   "source": [
    "country_num_std_df"
   ]
  },
  {
   "cell_type": "markdown",
   "metadata": {},
   "source": [
    "### 4. Performing PCA"
   ]
  },
  {
   "cell_type": "code",
   "execution_count": 140,
   "metadata": {},
   "outputs": [],
   "source": [
    "# PCA Initialization\n",
    "pca = PCA(svd_solver='randomized', random_state=42)"
   ]
  },
  {
   "cell_type": "code",
   "execution_count": 141,
   "metadata": {},
   "outputs": [
    {
     "data": {
      "text/plain": [
       "PCA(copy=True, iterated_power='auto', n_components=None, random_state=42,\n",
       "  svd_solver='randomized', tol=0.0, whiten=False)"
      ]
     },
     "execution_count": 141,
     "metadata": {},
     "output_type": "execute_result"
    }
   ],
   "source": [
    "# Performing PCA\n",
    "pca.fit(country_num_std_df)"
   ]
  },
  {
   "cell_type": "code",
   "execution_count": 142,
   "metadata": {},
   "outputs": [
    {
     "data": {
      "text/plain": [
       "array([[-0.41951945,  0.28389698,  0.15083782,  0.16148244,  0.39844111,\n",
       "        -0.19317293,  0.42583938, -0.40372896,  0.39264482],\n",
       "       [ 0.19288394,  0.61316349, -0.24308678,  0.67182064,  0.02253553,\n",
       "        -0.00840447, -0.22270674,  0.15523311, -0.0460224 ],\n",
       "       [-0.02954353,  0.14476069, -0.59663237, -0.29992674,  0.3015475 ,\n",
       "         0.64251951,  0.11391854,  0.01954925,  0.12297749],\n",
       "       [ 0.37065326,  0.00309102,  0.4618975 , -0.07190746,  0.39215904,\n",
       "         0.15044176, -0.20379723,  0.37830365,  0.53199457],\n",
       "       [-0.16896968,  0.05761584,  0.51800037,  0.25537642, -0.2471496 ,\n",
       "         0.7148691 ,  0.1082198 , -0.13526221, -0.18016662],\n",
       "       [ 0.20062815, -0.05933283,  0.00727646, -0.03003154,  0.16034699,\n",
       "         0.06628537, -0.60112652, -0.75068875,  0.01677876],\n",
       "       [-0.07948854, -0.70730269, -0.24983051,  0.59218953,  0.09556237,\n",
       "         0.10463252,  0.01848639,  0.02882643,  0.24299776],\n",
       "       [-0.68274306, -0.01419742,  0.07249683, -0.02894642,  0.35262369,\n",
       "        -0.01153775, -0.50466425,  0.29335267, -0.24969636],\n",
       "       [ 0.3275418 , -0.12308207,  0.11308797,  0.09903717,  0.61298247,\n",
       "        -0.02523614,  0.29403981, -0.02633585, -0.62564572]])"
      ]
     },
     "execution_count": 142,
     "metadata": {},
     "output_type": "execute_result"
    }
   ],
   "source": [
    "#List of PCA components.\n",
    "pca.components_"
   ]
  },
  {
   "cell_type": "code",
   "execution_count": 143,
   "metadata": {},
   "outputs": [
    {
     "data": {
      "text/plain": [
       "array([0.4595174 , 0.17181626, 0.13004259, 0.11053162, 0.07340211,\n",
       "       0.02484235, 0.0126043 , 0.00981282, 0.00743056])"
      ]
     },
     "execution_count": 143,
     "metadata": {},
     "output_type": "execute_result"
    }
   ],
   "source": [
    "#Let's check the variance ratios\n",
    "pca.explained_variance_ratio_"
   ]
  },
  {
   "cell_type": "code",
   "execution_count": 144,
   "metadata": {},
   "outputs": [
    {
     "data": {
      "image/png": "[encoded data removed]",
      "text/plain": [
       "<Figure size 864x576 with 1 Axes>"
      ]
     },
     "metadata": {
      "needs_background": "light"
     },
     "output_type": "display_data"
    }
   ],
   "source": [
    "#Plotting the scree plot\n",
    "%matplotlib inline\n",
    "fig = plt.figure(figsize = (12,8))\n",
    "plt.plot(np.cumsum(pca.explained_variance_ratio_))\n",
    "plt.xlabel('number of components')\n",
    "plt.ylabel('cumulative explained variance')\n",
    "plt.show()"
   ]
  },
  {
   "cell_type": "markdown",
   "metadata": {},
   "source": [
    "#### Observation\n",
    ">> Around 95% of the variace is explained by 4 components"
   ]
  },
  {
   "cell_type": "code",
   "execution_count": 145,
   "metadata": {},
   "outputs": [
    {
     "data": {
      "text/html": [
       "<div>\n",
       "<style scoped>\n",
       "    .dataframe tbody tr th:only-of-type {\n",
       "        vertical-align: middle;\n",
       "    }\n",
       "\n",
       "    .dataframe tbody tr th {\n",
       "        vertical-align: top;\n",
       "    }\n",
       "\n",
       "    .dataframe thead th {\n",
       "        text-align: right;\n",
       "    }\n",
       "</style>\n",
       "<table border=\"1\" class=\"dataframe\">\n",
       "  <thead>\n",
       "    <tr style=\"text-align: right;\">\n",
       "      <th></th>\n",
       "      <th>Feature</th>\n",
       "      <th>PC1</th>\n",
       "      <th>PC2</th>\n",
       "      <th>PC3</th>\n",
       "      <th>PC4</th>\n",
       "    </tr>\n",
       "  </thead>\n",
       "  <tbody>\n",
       "    <tr>\n",
       "      <th>0</th>\n",
       "      <td>child_mort</td>\n",
       "      <td>-0.419519</td>\n",
       "      <td>0.192884</td>\n",
       "      <td>-0.029544</td>\n",
       "      <td>0.370653</td>\n",
       "    </tr>\n",
       "    <tr>\n",
       "      <th>1</th>\n",
       "      <td>exports</td>\n",
       "      <td>0.283897</td>\n",
       "      <td>0.613163</td>\n",
       "      <td>0.144761</td>\n",
       "      <td>0.003091</td>\n",
       "    </tr>\n",
       "    <tr>\n",
       "      <th>2</th>\n",
       "      <td>health</td>\n",
       "      <td>0.150838</td>\n",
       "      <td>-0.243087</td>\n",
       "      <td>-0.596632</td>\n",
       "      <td>0.461897</td>\n",
       "    </tr>\n",
       "    <tr>\n",
       "      <th>3</th>\n",
       "      <td>imports</td>\n",
       "      <td>0.161482</td>\n",
       "      <td>0.671821</td>\n",
       "      <td>-0.299927</td>\n",
       "      <td>-0.071907</td>\n",
       "    </tr>\n",
       "    <tr>\n",
       "      <th>4</th>\n",
       "      <td>income</td>\n",
       "      <td>0.398441</td>\n",
       "      <td>0.022536</td>\n",
       "      <td>0.301548</td>\n",
       "      <td>0.392159</td>\n",
       "    </tr>\n",
       "    <tr>\n",
       "      <th>5</th>\n",
       "      <td>inflation</td>\n",
       "      <td>-0.193173</td>\n",
       "      <td>-0.008404</td>\n",
       "      <td>0.642520</td>\n",
       "      <td>0.150442</td>\n",
       "    </tr>\n",
       "    <tr>\n",
       "      <th>6</th>\n",
       "      <td>life_expec</td>\n",
       "      <td>0.425839</td>\n",
       "      <td>-0.222707</td>\n",
       "      <td>0.113919</td>\n",
       "      <td>-0.203797</td>\n",
       "    </tr>\n",
       "    <tr>\n",
       "      <th>7</th>\n",
       "      <td>total_fer</td>\n",
       "      <td>-0.403729</td>\n",
       "      <td>0.155233</td>\n",
       "      <td>0.019549</td>\n",
       "      <td>0.378304</td>\n",
       "    </tr>\n",
       "    <tr>\n",
       "      <th>8</th>\n",
       "      <td>gdpp</td>\n",
       "      <td>0.392645</td>\n",
       "      <td>-0.046022</td>\n",
       "      <td>0.122977</td>\n",
       "      <td>0.531995</td>\n",
       "    </tr>\n",
       "  </tbody>\n",
       "</table>\n",
       "</div>"
      ],
      "text/plain": [
       "      Feature       PC1       PC2       PC3       PC4\n",
       "0  child_mort -0.419519  0.192884 -0.029544  0.370653\n",
       "1     exports  0.283897  0.613163  0.144761  0.003091\n",
       "2      health  0.150838 -0.243087 -0.596632  0.461897\n",
       "3     imports  0.161482  0.671821 -0.299927 -0.071907\n",
       "4      income  0.398441  0.022536  0.301548  0.392159\n",
       "5   inflation -0.193173 -0.008404  0.642520  0.150442\n",
       "6  life_expec  0.425839 -0.222707  0.113919 -0.203797\n",
       "7   total_fer -0.403729  0.155233  0.019549  0.378304\n",
       "8        gdpp  0.392645 -0.046022  0.122977  0.531995"
      ]
     },
     "execution_count": 145,
     "metadata": {},
     "output_type": "execute_result"
    }
   ],
   "source": [
    "#Understanding how the original 9 variables are loaded on the principal components. It can be verified from above as well.\n",
    "colnames = list(country_num_df.columns)\n",
    "pcs_df = pd.DataFrame({ 'Feature':colnames,'PC1':pca.components_[0],'PC2':pca.components_[1], 'PC3':pca.components_[2], 'PC4':pca.components_[3]})\n",
    "pcs_df"
   ]
  },
  {
   "cell_type": "code",
   "execution_count": 146,
   "metadata": {},
   "outputs": [
    {
     "data": {
      "image/png": "[encoded data removed]",
      "text/plain": [
       "<Figure size 576x576 with 1 Axes>"
      ]
     },
     "metadata": {
      "needs_background": "light"
     },
     "output_type": "display_data"
    }
   ],
   "source": [
    "# Let's plot them to visualise how these features are loaded\n",
    "%matplotlib inline\n",
    "fig = plt.figure(figsize = (8,8))\n",
    "plt.scatter(pcs_df.PC1, pcs_df.PC2)\n",
    "plt.xlabel('Principal Component 1')\n",
    "plt.ylabel('Principal Component 2')\n",
    "for i, txt in enumerate(pcs_df.Feature):\n",
    "    plt.annotate(txt, (pcs_df.PC1[i],pcs_df.PC2[i]))\n",
    "plt.tight_layout()\n",
    "plt.show()"
   ]
  },
  {
   "cell_type": "code",
   "execution_count": 147,
   "metadata": {},
   "outputs": [
    {
     "data": {
      "image/png": "[encoded data removed]",
      "text/plain": [
       "<Figure size 576x576 with 1 Axes>"
      ]
     },
     "metadata": {
      "needs_background": "light"
     },
     "output_type": "display_data"
    }
   ],
   "source": [
    "%matplotlib inline\n",
    "fig = plt.figure(figsize = (8,8))\n",
    "plt.scatter(pcs_df.PC2, pcs_df.PC3)\n",
    "plt.xlabel('Principal Component 2')\n",
    "plt.ylabel('Principal Component 3')\n",
    "for i, txt in enumerate(pcs_df.Feature):\n",
    "    plt.annotate(txt, (pcs_df.PC2[i],pcs_df.PC3[i]))\n",
    "plt.tight_layout()\n",
    "plt.show()"
   ]
  },
  {
   "cell_type": "code",
   "execution_count": 148,
   "metadata": {},
   "outputs": [
    {
     "data": {
      "image/png": "[encoded data removed]",
      "text/plain": [
       "<Figure size 576x576 with 1 Axes>"
      ]
     },
     "metadata": {
      "needs_background": "light"
     },
     "output_type": "display_data"
    }
   ],
   "source": [
    "%matplotlib inline\n",
    "fig = plt.figure(figsize = (8,8))\n",
    "plt.scatter(pcs_df.PC3, pcs_df.PC4)\n",
    "plt.xlabel('Principal Component 3')\n",
    "plt.ylabel('Principal Component 4')\n",
    "for i, txt in enumerate(pcs_df.Feature):\n",
    "    plt.annotate(txt, (pcs_df.PC3[i],pcs_df.PC4[i]))\n",
    "plt.tight_layout()\n",
    "plt.show()"
   ]
  },
  {
   "cell_type": "markdown",
   "metadata": {},
   "source": [
    "### Observations\n",
    ">> 1. PC1 is in the direction where \"gdpp\",\"life_expec\" and \"income\" are high\n",
    ">> 2. PC2 is in the direction where \"imports\", \"export\" are high\n",
    ">> 3. PC3 is in the direction where \"inflation\" is high\n",
    ">> 4. PC4 is in the direction where \"gdpp\", \"health\" are high"
   ]
  },
  {
   "cell_type": "code",
   "execution_count": 149,
   "metadata": {},
   "outputs": [],
   "source": [
    "# let PCA select the number of principal components\n",
    "pca_again = PCA(0.90)"
   ]
  },
  {
   "cell_type": "code",
   "execution_count": 151,
   "metadata": {},
   "outputs": [
    {
     "data": {
      "text/plain": [
       "(167, 5)"
      ]
     },
     "execution_count": 151,
     "metadata": {},
     "output_type": "execute_result"
    }
   ],
   "source": [
    "pca2_df = pca_again.fit_transform(country_num_std_df)\n",
    "pca2_df.shape"
   ]
  },
  {
   "cell_type": "code",
   "execution_count": 152,
   "metadata": {},
   "outputs": [],
   "source": [
    "# Therefore, selecting 5 principal components\n",
    "pca_final = IncrementalPCA(n_components=5)"
   ]
  },
  {
   "cell_type": "code",
   "execution_count": 161,
   "metadata": {},
   "outputs": [
    {
     "data": {
      "text/plain": [
       "(167, 5)"
      ]
     },
     "execution_count": 161,
     "metadata": {},
     "output_type": "execute_result"
    }
   ],
   "source": [
    "pca_final_np = pca_final.fit_transform(country_num_std_df)\n",
    "pca_final_np.shape"
   ]
  },
  {
   "cell_type": "code",
   "execution_count": 162,
   "metadata": {},
   "outputs": [
    {
     "data": {
      "text/plain": [
       "numpy.ndarray"
      ]
     },
     "execution_count": 162,
     "metadata": {},
     "output_type": "execute_result"
    }
   ],
   "source": [
    "type(pca_final_np)"
   ]
  },
  {
   "cell_type": "code",
   "execution_count": 163,
   "metadata": {},
   "outputs": [
    {
     "data": {
      "text/plain": [
       "array([[-2.91299992e+00,  9.19694483e-02, -7.21242475e-01,\n",
       "         1.00183771e+00, -1.46764708e-01],\n",
       "       [ 4.29869882e-01, -5.89373005e-01, -3.28611009e-01,\n",
       "        -1.16501385e+00,  1.53205240e-01],\n",
       "       [-2.85288747e-01, -4.52138721e-01,  1.23205055e+00,\n",
       "        -8.57767020e-01,  1.91227155e-01],\n",
       "       [-2.93271361e+00,  1.69877055e+00,  1.52507602e+00,\n",
       "         8.55595497e-01, -2.14777969e-01],\n",
       "       [ 1.03337146e+00,  1.33852736e-01, -2.16699200e-01,\n",
       "        -8.46637655e-01, -1.93186250e-01],\n",
       "       [ 2.28903436e-02, -1.77273550e+00,  8.64499533e-01,\n",
       "        -3.67466174e-02,  9.97895254e-01],\n",
       "       [-1.01463164e-01, -5.67317984e-01,  2.48106950e-01,\n",
       "        -1.46602345e+00, -8.58319260e-02],\n",
       "       [ 2.34215326e+00, -1.98970971e+00,  1.98795068e-01,\n",
       "         1.11341263e+00, -7.10653789e-01],\n",
       "       [ 2.97384111e+00, -7.35152104e-01, -5.28284369e-01,\n",
       "         1.20110137e+00,  8.01665136e-02],\n",
       "       [-1.81302843e-01, -3.96894805e-01,  8.68398935e-01,\n",
       "        -4.35201409e-01,  1.20357259e-01],\n",
       "       [ 1.26873963e+00, -6.58657937e-01, -4.84554953e-01,\n",
       "         5.39449943e-02, -3.98859366e-01],\n",
       "       [ 1.67102427e+00,  5.63934168e-01,  9.97464453e-01,\n",
       "        -1.97912392e-01, -3.78990900e-01],\n",
       "       [-1.12397899e+00, -9.61082778e-01,  5.42963809e-01,\n",
       "        -1.18920365e+00, -6.88348042e-01],\n",
       "       [ 1.08119637e+00, -4.84982560e-01, -6.58991317e-01,\n",
       "        -5.26571013e-01, -8.86188668e-03],\n",
       "       [ 5.80574302e-01,  5.41405042e-01,  4.71986455e-01,\n",
       "        -1.04208482e+00,  7.84711773e-01],\n",
       "       [ 3.14375619e+00,  6.62482052e-01, -6.59854636e-01,\n",
       "         1.08764423e+00,  4.45979035e-01],\n",
       "       [ 2.10907505e-01,  6.95633425e-01, -2.61730632e-01,\n",
       "        -1.09424373e+00, -2.85266154e-01],\n",
       "       [-2.67300470e+00,  4.11199072e-01, -2.37232121e-01,\n",
       "         2.89667936e-01, -1.41185393e+00],\n",
       "       [-1.56696054e-01,  7.76113252e-01, -2.79266136e-01,\n",
       "        -1.04272371e+00,  9.75844361e-02],\n",
       "       [-7.94150509e-01, -1.20997052e-01,  4.14131931e-01,\n",
       "        -7.17824334e-01, -2.06041454e-01],\n",
       "       [ 9.95908594e-01, -9.74805774e-01, -1.53407143e+00,\n",
       "        -6.38487819e-01,  9.00375072e-01],\n",
       "       [-8.81575681e-01,  4.60255797e-01, -6.02232240e-01,\n",
       "         3.94024308e-01,  2.48934163e-01],\n",
       "       [ 1.41006684e-01, -2.14963065e+00, -1.69566628e-01,\n",
       "        -1.70219648e-01,  2.84365783e-01],\n",
       "       [ 2.46067532e+00,  2.82792015e-02,  3.02254870e+00,\n",
       "         8.01235872e-01, -1.01543030e+00],\n",
       "       [ 9.06504214e-01,  2.87277295e-02, -4.65601469e-01,\n",
       "        -9.99039157e-01, -1.89482014e-02],\n",
       "       [-3.12242958e+00,  3.41318479e-02, -4.48309279e-01,\n",
       "         1.08525589e+00, -7.05787992e-01],\n",
       "       [-2.89891128e+00, -4.26693503e-01, -1.36008579e+00,\n",
       "         1.80978172e+00,  7.42353358e-01],\n",
       "       [-5.82622058e-01,  8.92420216e-01, -4.94662141e-01,\n",
       "        -8.08601249e-01, -1.56297507e-01],\n",
       "       [-2.80833175e+00,  7.37051932e-02, -3.27757334e-01,\n",
       "         5.51091673e-01, -1.31392894e+00],\n",
       "       [ 2.54377573e+00, -1.72735691e+00, -4.01760072e-01,\n",
       "         1.33443430e+00,  7.04552786e-02],\n",
       "       [-1.56104788e-01,  3.46725943e-01, -2.77912049e-01,\n",
       "        -1.34177861e+00, -5.38942605e-01],\n",
       "       [-3.96515838e+00,  3.83684746e-01, -3.17098959e-01,\n",
       "         9.24644785e-01, -1.87171423e+00],\n",
       "       [-3.55824937e+00,  1.28368433e+00, -9.38996508e-02,\n",
       "         1.21920295e+00, -1.19388863e+00],\n",
       "       [ 9.51656073e-01, -1.07539028e+00,  1.55563242e-01,\n",
       "        -4.36591423e-01,  4.32359645e-01],\n",
       "       [ 5.74753018e-02, -1.18883740e+00,  4.41723153e-01,\n",
       "        -1.27265124e+00, -2.42616215e-01],\n",
       "       [ 1.21020692e-01, -1.77074113e+00, -2.30758621e-01,\n",
       "        -7.14390556e-01, -9.58410375e-02],\n",
       "       [-2.09401880e+00,  3.37787474e-01, -3.16710091e-01,\n",
       "        -1.13608041e-01, -7.95839364e-01],\n",
       "       [-3.17342051e+00,  1.05087981e+00, -1.63410227e-02,\n",
       "         1.57262513e+00,  6.93080630e-01],\n",
       "       [-1.72575439e+00,  2.18087468e+00,  1.49344977e+00,\n",
       "        -1.26988656e-01,  1.15642914e-01],\n",
       "       [ 9.37737821e-01, -1.35210885e+00, -8.21288718e-01,\n",
       "        -2.69325414e-01,  9.89464820e-01],\n",
       "       [-2.58213226e+00,  1.20457403e+00, -2.26754982e-01,\n",
       "         6.70365244e-01, -8.46253890e-01],\n",
       "       [ 1.14879637e+00, -8.46517178e-01, -4.00903642e-01,\n",
       "        -6.25046894e-01, -1.17320181e-01],\n",
       "       [ 2.17440691e+00, -4.71708491e-03,  2.61252498e-01,\n",
       "        -3.07912297e-01, -4.22070093e-01],\n",
       "       [ 2.05308311e+00,  4.20868833e-01, -5.40332595e-01,\n",
       "        -4.15479675e-01, -6.35007501e-02],\n",
       "       [ 3.01064195e+00, -8.65284500e-01, -3.47129034e-01,\n",
       "         1.78475498e+00,  1.13204205e-01],\n",
       "       [-2.31280333e-01, -8.82440867e-01, -2.50716663e-02,\n",
       "        -6.50734450e-01, -2.02160852e-01],\n",
       "       [ 9.44562646e-03, -1.04699064e+00, -2.65293953e-01,\n",
       "        -4.89875075e-01,  3.89733350e-01],\n",
       "       [-8.48190862e-01, -8.19519318e-01,  5.97770718e-01,\n",
       "        -7.37765294e-01, -2.79433575e-01],\n",
       "       [ 8.17296557e-02, -5.70935914e-01, -5.67211188e-01,\n",
       "        -9.80210075e-01,  3.60111747e-02],\n",
       "       [-1.29326387e+00,  2.37201687e+00,  1.75896172e+00,\n",
       "         1.74829314e+00,  9.18828993e-02],\n",
       "       [-2.47466417e+00, -6.18449501e-01,  8.21210257e-01,\n",
       "        -4.75887511e-01, -8.37692763e-01],\n",
       "       [ 1.65888622e+00,  1.02042827e+00, -1.06820046e-01,\n",
       "        -8.64010570e-01, -3.12606773e-02],\n",
       "       [-1.88839305e-01,  1.07088718e+00, -1.87079511e-01,\n",
       "        -9.82159285e-01, -1.80193479e-01],\n",
       "       [ 2.45893810e+00, -1.07756805e+00, -9.68980827e-02,\n",
       "         9.02880749e-01, -4.53488842e-01],\n",
       "       [ 2.25427195e+00, -1.86908554e+00, -7.12034312e-01,\n",
       "         1.22673062e+00,  1.25576011e-01],\n",
       "       [-1.42171558e+00,  3.24592383e-01,  1.54687885e+00,\n",
       "         2.03103399e-01, -4.99567228e-01],\n",
       "       [-2.21426701e+00,  2.16136050e-01, -3.75310396e-01,\n",
       "         2.97283977e-01, -6.41800657e-01],\n",
       "       [ 3.22159531e-01, -5.18124390e-01, -9.85504604e-01,\n",
       "        -4.82879990e-01,  1.14110863e+00],\n",
       "       [ 2.67152140e+00, -1.27425056e+00, -6.62272763e-01,\n",
       "         1.12051025e+00,  1.37977896e-01],\n",
       "       [-2.05401070e+00,  3.82366348e-01,  4.13181566e-01,\n",
       "         9.19391577e-02,  1.83948421e-01],\n",
       "       [ 1.77951251e+00, -1.76746680e+00, -6.81162361e-01,\n",
       "         2.58244205e-01,  6.99019646e-02],\n",
       "       [ 1.45471908e-01, -4.34458410e-01, -4.60228363e-01,\n",
       "        -9.72883530e-01, -4.06369343e-01],\n",
       "       [-6.63722172e-01, -6.17231820e-01, -3.20734028e-01,\n",
       "        -4.44445017e-01, -8.39810597e-02],\n",
       "       [-2.96956545e+00,  7.29508559e-01,  3.86106918e-01,\n",
       "         6.70772558e-01, -1.82807045e-01],\n",
       "       [-2.83380205e+00, -9.59609140e-02, -1.20662973e+00,\n",
       "         1.12775619e+00, -5.70452318e-01],\n",
       "       [-3.22705098e-01,  1.36063639e+00, -4.78030423e-01,\n",
       "        -8.58237065e-01,  1.24109481e-01],\n",
       "       [-4.40894114e+00,  1.74714888e+00, -1.51217746e+00,\n",
       "         1.77119341e+00, -1.10924377e+00],\n",
       "       [ 1.83912005e+00,  1.27306337e+00, -4.68814972e-01,\n",
       "        -7.87456647e-01,  3.65312943e-01],\n",
       "       [ 2.48086574e+00, -6.34860149e-01,  1.03015964e-01,\n",
       "         9.22553100e-01,  1.46518764e-01],\n",
       "       [-1.34279857e+00, -5.33472803e-01,  4.78064490e-01,\n",
       "        -7.83252672e-01, -5.49063506e-01],\n",
       "       [-9.54566740e-01, -7.27639065e-01,  1.38704244e+00,\n",
       "        -1.13266835e+00, -3.20451093e-01],\n",
       "       [-7.23935239e-04, -1.32855305e+00,  1.02545266e+00,\n",
       "        -7.50308119e-01,  2.80794594e-01],\n",
       "       [-1.02909667e+00, -2.82051979e-01,  1.90399927e-01,\n",
       "         5.63695275e-01,  7.70225146e-01],\n",
       "       [ 3.66826706e+00,  1.72632221e+00, -5.30388157e-01,\n",
       "         9.88469365e-01, -1.03747288e-01],\n",
       "       [ 1.48496139e+00, -1.05339963e+00,  9.48233906e-02,\n",
       "         3.30187695e-01, -4.26201904e-01],\n",
       "       [ 2.16579780e+00, -1.77397912e+00, -2.78349766e-01,\n",
       "         5.17782622e-01, -2.89742633e-01],\n",
       "       [ 1.86403333e-02, -2.38168321e-01,  3.38646233e-01,\n",
       "        -1.22134797e+00,  1.64131588e-01],\n",
       "       [ 2.26579070e+00, -2.43800802e+00, -2.17736863e-01,\n",
       "         7.17556134e-01, -6.65752670e-01],\n",
       "       [ 1.59899671e-01,  5.37445134e-01, -5.57465006e-01,\n",
       "        -3.81923364e-01,  8.26480080e-01],\n",
       "       [-2.92881985e-01, -2.29861114e-01,  1.49123111e+00,\n",
       "        -4.45909198e-01,  2.21694735e-01],\n",
       "       [-1.87501881e+00, -1.75944745e-01, -2.30612882e-01,\n",
       "        -2.79117466e-01, -9.66928903e-01],\n",
       "       [-1.23901187e+00,  3.63313719e-01, -2.39019262e+00,\n",
       "         5.67307872e-01,  6.72742042e-01],\n",
       "       [ 2.46592838e+00,  9.58409957e-02,  2.66389506e+00,\n",
       "         7.35404269e-01, -1.37304546e+00],\n",
       "       [-3.39910481e-01,  1.29751932e+00, -4.37452954e-01,\n",
       "        -8.26284703e-01,  7.11318206e-01],\n",
       "       [-1.52780047e+00,  5.46697118e-01,  1.35283879e-01,\n",
       "        -4.14866740e-01, -3.52583623e-01],\n",
       "       [ 1.18877530e+00,  1.60482592e-01, -4.82793536e-01,\n",
       "        -9.34911185e-01, -2.25082505e-01],\n",
       "       [ 1.17177257e+00, -2.59865394e-01, -6.12466599e-01,\n",
       "        -1.05841978e+00,  4.72561531e-02],\n",
       "       [-1.80245852e+00,  2.03759195e+00, -2.54536211e+00,\n",
       "         1.03713787e+00,  7.25375737e-01],\n",
       "       [-1.77352471e+00,  1.04688558e+00, -2.41917882e+00,\n",
       "         1.15430879e+00,  1.01592867e+00],\n",
       "       [ 8.18967572e-01,  3.94633641e-01,  1.49714520e+00,\n",
       "        -6.07826815e-01, -3.76778182e-02],\n",
       "       [ 1.40981474e+00,  7.29602186e-01, -4.10427796e-01,\n",
       "        -7.71121710e-01,  1.69461934e-01],\n",
       "       [ 6.91785070e+00,  4.85531273e+00,  9.60087142e-01,\n",
       "         3.13461098e+00, -2.67129027e-01],\n",
       "       [ 7.33216481e-01, -9.64392601e-02, -6.55871771e-01,\n",
       "        -1.14612949e+00,  1.92565059e-01],\n",
       "       [-2.13609109e+00,  3.40922114e-01,  2.45262910e-01,\n",
       "        -3.11189848e-01, -6.14801443e-01],\n",
       "       [-2.97972497e+00,  2.16436843e-01, -2.08393322e-01,\n",
       "         8.38092403e-01, -2.32220778e-01],\n",
       "       [ 1.23066037e+00,  1.60291282e+00,  5.43109561e-01,\n",
       "        -1.08311761e+00,  1.01098631e-01],\n",
       "       [ 1.10811161e+00,  1.00632624e+00, -2.60904177e-01,\n",
       "        -1.08966233e+00,  2.69616610e-01],\n",
       "       [-3.41300507e+00,  5.54316611e-01, -2.32638086e-01,\n",
       "         1.08507182e+00, -1.25541988e+00],\n",
       "       [ 3.67922643e+00,  4.76472577e+00, -1.05430308e+00,\n",
       "        -5.20945066e-01,  1.60260122e+00],\n",
       "       [-1.95422854e+00,  1.38442041e+00,  7.26003340e-01,\n",
       "         2.01550753e-01,  3.44335620e-01],\n",
       "       [ 8.99700523e-01,  4.15087647e-01, -3.78264732e-01,\n",
       "        -1.07608530e+00, -1.32753481e-01],\n",
       "       [-3.80656511e-01,  9.65361615e-02, -2.74296465e+00,\n",
       "         7.40099695e-01,  1.57664975e+00],\n",
       "       [ 5.10139100e-01,  1.64005573e-01, -1.60032467e+00,\n",
       "        -4.48193902e-01,  1.91940560e+00],\n",
       "       [-9.43812644e-01,  5.45567645e-01,  1.81642276e+00,\n",
       "        -4.01107476e-01,  2.22137664e+00],\n",
       "       [ 1.02666297e+00, -2.60756883e-01, -1.10614118e+00,\n",
       "        -7.27751657e-01,  5.64456074e-01],\n",
       "       [-2.33243111e-01, -2.85033571e-01, -2.44342567e-01,\n",
       "        -1.07323096e+00, -5.02190783e-01],\n",
       "       [-2.92071264e+00,  8.90296189e-01, -2.55651570e-01,\n",
       "         6.36759430e-01, -6.98310125e-01],\n",
       "       [-1.83726357e+00, -1.61216208e+00,  1.03329762e+00,\n",
       "        -1.10816828e+00, -1.39497982e+00],\n",
       "       [-1.04329981e+00,  1.00109669e+00, -7.37312434e-01,\n",
       "         8.47478585e-02, -2.56001118e-01],\n",
       "       [-1.30677284e+00, -7.85745136e-01,  3.85940111e-01,\n",
       "        -7.55140907e-01,  2.78927807e-01],\n",
       "       [ 3.37914362e+00,  1.14563526e-01, -7.52356961e-01,\n",
       "         1.53599747e+00,  3.79078110e-01],\n",
       "       [ 1.81570581e+00, -1.58619117e+00, -2.57365398e-01,\n",
       "         7.36224696e-01,  7.93782097e-02],\n",
       "       [-3.45099016e+00,  9.59644202e-01, -5.62642013e-01,\n",
       "         1.13734217e+00, -1.18964693e+00],\n",
       "       [-4.90948906e+00, -5.17731496e-02,  6.01005810e+00,\n",
       "         2.41487517e+00,  5.40453694e+00],\n",
       "       [ 3.72154059e+00, -1.44377751e+00,  8.78485867e-01,\n",
       "         2.77592867e+00, -7.47763137e-01],\n",
       "       [ 1.12752276e+00,  4.97622243e-01,  2.14333614e+00,\n",
       "        -1.57537488e-01, -4.40542980e-01],\n",
       "       [-2.36056280e+00, -4.78644053e-01,  1.02926117e+00,\n",
       "        -4.06709360e-01, -1.10024485e+00],\n",
       "       [ 1.16339143e+00,  1.11117536e+00, -7.90469336e-01,\n",
       "        -5.52013441e-01,  5.65136231e-01],\n",
       "       [ 1.17540210e-01,  3.59153039e-01, -3.69466132e-02,\n",
       "        -9.45684377e-01,  1.46190385e-01],\n",
       "       [-2.09763715e-02, -1.08858474e+00,  4.26926985e-01,\n",
       "        -1.06046967e+00, -3.41660559e-01],\n",
       "       [-7.83008632e-01, -9.88369050e-02,  3.29683740e-01,\n",
       "        -1.07384476e+00, -7.17055463e-01],\n",
       "       [ 1.21781290e+00, -6.60064470e-01, -3.04717409e-01,\n",
       "        -6.97655013e-01, -7.78325035e-02],\n",
       "       [ 1.81409565e+00, -1.45298305e+00, -9.43382406e-01,\n",
       "         1.85204228e-01,  3.45129760e-01],\n",
       "       [ 4.24288840e+00, -1.85167772e-01,  3.65567740e+00,\n",
       "         2.42959635e+00, -2.81524275e+00],\n",
       "       [ 5.72838023e-01, -6.37311813e-01,  9.62125034e-02,\n",
       "        -1.02855442e+00, -3.38599296e-01],\n",
       "       [ 1.64339105e-01, -1.05963020e+00,  1.09133416e+00,\n",
       "        -6.40936860e-01, -4.87020376e-02],\n",
       "       [-1.67992132e+00, -1.00796943e+00, -1.46372817e+00,\n",
       "         6.64997079e-01,  1.25502741e-01],\n",
       "       [-5.63301242e-01, -2.94840748e-02, -6.19939048e-01,\n",
       "        -5.30824162e-01, -1.75969058e-01],\n",
       "       [ 8.56252729e-01, -1.76841174e-01,  1.90763742e+00,\n",
       "         2.17376929e-01, -2.07892565e-01],\n",
       "       [-1.91264791e+00,  8.46795074e-02, -4.88359761e-01,\n",
       "         3.31674809e-02, -7.71567126e-01],\n",
       "       [ 8.32651886e-01, -8.69344238e-01, -1.02679944e+00,\n",
       "        -5.18550764e-01,  9.59661271e-01],\n",
       "       [ 1.60212798e+00,  2.93442309e+00, -3.80999705e-01,\n",
       "        -1.40092974e+00, -5.33968406e-01],\n",
       "       [-3.38142227e+00, -2.34851720e-01, -1.40062474e+00,\n",
       "         2.56326325e+00,  1.03804121e+00],\n",
       "       [ 5.78297222e+00,  6.68426754e+00,  6.28384597e-01,\n",
       "         9.00962075e-02,  2.54756240e-02],\n",
       "       [ 2.02966114e+00,  1.04900538e+00, -8.63287186e-01,\n",
       "        -3.82333405e-01,  4.42523471e-01],\n",
       "       [ 2.27929784e+00,  1.92449321e-01, -8.02426480e-01,\n",
       "        -7.39656844e-02,  2.39158918e-01],\n",
       "       [-8.06093472e-01,  1.29993701e+00, -1.24022669e+00,\n",
       "        -5.68427246e-02,  7.73508972e-01],\n",
       "       [-1.19124523e+00, -5.53842227e-01, -7.30236223e-01,\n",
       "         5.38689326e-01, -1.09323529e-01],\n",
       "       [ 1.91801644e+00, -4.27112248e-01,  1.45715813e-01,\n",
       "        -4.70615029e-01, -1.36313704e-01],\n",
       "       [ 2.01914279e+00, -1.78617895e+00, -3.73238351e-01,\n",
       "         2.64334386e-01, -1.94776736e-01],\n",
       "       [-5.75132370e-01, -9.89931832e-01,  1.75572555e+00,\n",
       "        -1.36930221e+00,  4.73650484e-01],\n",
       "       [ 2.66713544e-02, -1.69914939e-02, -3.30203103e-02,\n",
       "        -1.22534980e+00, -2.96905959e-01],\n",
       "       [-2.31944150e+00, -7.67380971e-01,  7.35848298e-01,\n",
       "         4.99157288e-01,  2.97273767e-01],\n",
       "       [ 1.71653940e-01, -9.42432875e-02,  1.65102902e-02,\n",
       "        -3.77212074e-01,  1.10093440e-01],\n",
       "       [ 2.81826323e+00, -9.15851058e-01, -1.01272978e-01,\n",
       "         1.24570132e+00, -3.09936510e-01],\n",
       "       [ 4.08862349e+00, -4.29290746e-01, -2.76359289e-01,\n",
       "         2.30671934e+00, -1.84680779e-01],\n",
       "       [-1.24437664e+00, -2.94036939e-02, -1.53757851e-01,\n",
       "        -4.85148185e-01,  4.17517599e-01],\n",
       "       [-2.55416977e+00, -2.17996078e-01, -7.79559614e-02,\n",
       "         4.67171108e-01, -4.44480180e-01],\n",
       "       [ 9.25809212e-01,  8.27978924e-01,  3.52726225e-01,\n",
       "        -1.59155907e+00, -1.93910844e-01],\n",
       "       [-2.37188873e+00, -1.17696614e+00,  3.92826765e-01,\n",
       "         1.15949344e+00,  1.41836650e+00],\n",
       "       [-1.99799358e+00,  9.52270839e-01, -1.21724111e+00,\n",
       "         5.55483496e-01, -3.95009532e-01],\n",
       "       [-7.55117190e-01, -9.33669091e-02, -4.10624172e-01,\n",
       "        -8.54012875e-01, -2.66629684e-01],\n",
       "       [ 6.01940492e-01,  1.71080852e-01, -2.34295966e-01,\n",
       "        -1.11893141e+00,  1.40118262e-01],\n",
       "       [ 4.01370474e-01, -1.41228570e+00,  2.37245999e-01,\n",
       "        -5.59341951e-01, -7.03775884e-02],\n",
       "       [-4.64511787e-01,  1.29070232e+00,  6.18455134e-01,\n",
       "        -9.27496643e-01, -1.08531242e+00],\n",
       "       [-2.85488139e+00, -3.55786620e-01, -6.99311167e-01,\n",
       "         1.29405961e+00,  8.95517218e-02],\n",
       "       [ 3.02727826e-01, -9.29957982e-02, -1.03870139e-01,\n",
       "        -8.90837086e-01,  1.03436786e+00],\n",
       "       [ 2.42749103e+00,  1.15910028e+00,  1.82299009e+00,\n",
       "         2.88815562e-01, -4.62769325e-01],\n",
       "       [ 2.06799873e+00, -1.53682819e+00, -2.49088007e-01,\n",
       "         7.92830044e-01, -2.23892583e-01],\n",
       "       [ 2.64164790e+00, -2.99869599e+00, -1.74103415e+00,\n",
       "         2.80982644e+00,  8.16417350e-01],\n",
       "       [ 6.17286574e-01, -1.43152533e+00, -2.35306865e-01,\n",
       "        -3.59603785e-01,  1.18536034e-01],\n",
       "       [-8.53238232e-01, -6.49520902e-01,  6.17276494e-01,\n",
       "        -7.22563704e-01,  4.92596881e-01],\n",
       "       [-8.20752622e-01,  6.36404045e-01, -3.79488292e-01,\n",
       "        -7.06886324e-01, -4.00380805e-01],\n",
       "       [-5.49894278e-01, -1.21501773e+00,  3.07455578e+00,\n",
       "        -1.08594330e-01,  2.11402493e+00],\n",
       "       [ 4.98569893e-01,  1.39277702e+00, -2.52848673e-01,\n",
       "        -1.08503705e+00,  1.15647077e+00],\n",
       "       [-1.88729445e+00, -1.05396586e-01,  1.10763936e+00,\n",
       "         6.26359434e-02,  6.65467015e-01],\n",
       "       [-2.86388548e+00,  4.87336130e-01,  2.21917897e-01,\n",
       "         8.18991322e-01, -2.65920807e-01]])"
      ]
     },
     "execution_count": 163,
     "metadata": {},
     "output_type": "execute_result"
    }
   ],
   "source": [
    "pca_final_np"
   ]
  },
  {
   "cell_type": "code",
   "execution_count": 164,
   "metadata": {},
   "outputs": [
    {
     "data": {
      "text/plain": [
       "(5, 167)"
      ]
     },
     "execution_count": 164,
     "metadata": {},
     "output_type": "execute_result"
    }
   ],
   "source": [
    "# Creating a transpose so that the each column is properly arranged\n",
    "pca_final_tp_np = np.transpose(pca_final_np)\n",
    "pca_final_tp_np.shape"
   ]
  },
  {
   "cell_type": "code",
   "execution_count": 165,
   "metadata": {},
   "outputs": [
    {
     "data": {
      "text/plain": [
       "numpy.ndarray"
      ]
     },
     "execution_count": 165,
     "metadata": {},
     "output_type": "execute_result"
    }
   ],
   "source": [
    "type(pca_final_tp_np)"
   ]
  },
  {
   "cell_type": "code",
   "execution_count": 166,
   "metadata": {},
   "outputs": [],
   "source": [
    "# Creating a Dataframe\n",
    "pca_final_df = pd.DataFrame({'PC1':pca_final_tp_np[0],'PC2':pca_final_tp_np[1], 'PC3':pca_final_tp_np[2], 'PC4':pca_final_tp_np[3], \n",
    "                       'PC5':pca_final_tp_np[4]})"
   ]
  },
  {
   "cell_type": "code",
   "execution_count": 167,
   "metadata": {
    "scrolled": true
   },
   "outputs": [
    {
     "data": {
      "text/html": [
       "<div>\n",
       "<style scoped>\n",
       "    .dataframe tbody tr th:only-of-type {\n",
       "        vertical-align: middle;\n",
       "    }\n",
       "\n",
       "    .dataframe tbody tr th {\n",
       "        vertical-align: top;\n",
       "    }\n",
       "\n",
       "    .dataframe thead th {\n",
       "        text-align: right;\n",
       "    }\n",
       "</style>\n",
       "<table border=\"1\" class=\"dataframe\">\n",
       "  <thead>\n",
       "    <tr style=\"text-align: right;\">\n",
       "      <th></th>\n",
       "      <th>PC1</th>\n",
       "      <th>PC2</th>\n",
       "      <th>PC3</th>\n",
       "      <th>PC4</th>\n",
       "      <th>PC5</th>\n",
       "    </tr>\n",
       "  </thead>\n",
       "  <tbody>\n",
       "    <tr>\n",
       "      <th>0</th>\n",
       "      <td>-2.913000</td>\n",
       "      <td>0.091969</td>\n",
       "      <td>-0.721242</td>\n",
       "      <td>1.001838</td>\n",
       "      <td>-0.146765</td>\n",
       "    </tr>\n",
       "    <tr>\n",
       "      <th>1</th>\n",
       "      <td>0.429870</td>\n",
       "      <td>-0.589373</td>\n",
       "      <td>-0.328611</td>\n",
       "      <td>-1.165014</td>\n",
       "      <td>0.153205</td>\n",
       "    </tr>\n",
       "    <tr>\n",
       "      <th>2</th>\n",
       "      <td>-0.285289</td>\n",
       "      <td>-0.452139</td>\n",
       "      <td>1.232051</td>\n",
       "      <td>-0.857767</td>\n",
       "      <td>0.191227</td>\n",
       "    </tr>\n",
       "    <tr>\n",
       "      <th>3</th>\n",
       "      <td>-2.932714</td>\n",
       "      <td>1.698771</td>\n",
       "      <td>1.525076</td>\n",
       "      <td>0.855595</td>\n",
       "      <td>-0.214778</td>\n",
       "    </tr>\n",
       "    <tr>\n",
       "      <th>4</th>\n",
       "      <td>1.033371</td>\n",
       "      <td>0.133853</td>\n",
       "      <td>-0.216699</td>\n",
       "      <td>-0.846638</td>\n",
       "      <td>-0.193186</td>\n",
       "    </tr>\n",
       "  </tbody>\n",
       "</table>\n",
       "</div>"
      ],
      "text/plain": [
       "        PC1       PC2       PC3       PC4       PC5\n",
       "0 -2.913000  0.091969 -0.721242  1.001838 -0.146765\n",
       "1  0.429870 -0.589373 -0.328611 -1.165014  0.153205\n",
       "2 -0.285289 -0.452139  1.232051 -0.857767  0.191227\n",
       "3 -2.932714  1.698771  1.525076  0.855595 -0.214778\n",
       "4  1.033371  0.133853 -0.216699 -0.846638 -0.193186"
      ]
     },
     "execution_count": 167,
     "metadata": {},
     "output_type": "execute_result"
    }
   ],
   "source": [
    "pca_final_df.head()"
   ]
  },
  {
   "cell_type": "markdown",
   "metadata": {},
   "source": [
    "### 5. Outlier Analysis and Actions afer doing PCA"
   ]
  },
  {
   "cell_type": "code",
   "execution_count": 168,
   "metadata": {},
   "outputs": [
    {
     "data": {
      "image/png": "[encoded data removed]",
      "text/plain": [
       "<Figure size 432x288 with 1 Axes>"
      ]
     },
     "metadata": {
      "needs_background": "light"
     },
     "output_type": "display_data"
    }
   ],
   "source": [
    "## Let's perform Outlier Analysis\n",
    "# Let's do the outlier analysis before proceeding to clustering\n",
    "# We can reassign the outliers to the clusters later\n",
    "plt.boxplot(pca_final_df.PC1)\n",
    "Q1 = pca_final_df.PC1.quantile(0.05)\n",
    "Q3 = pca_final_df.PC1.quantile(0.95)\n",
    "IQR = Q3 - Q1\n",
    "pca_final_df = pca_final_df[(pca_final_df.PC1 >= (Q1 - 1.5*IQR)) & (pca_final_df.PC1 <= (Q3 + 1.5*IQR))]"
   ]
  },
  {
   "cell_type": "code",
   "execution_count": 169,
   "metadata": {},
   "outputs": [
    {
     "data": {
      "image/png": "[encoded data removed]",
      "text/plain": [
       "<Figure size 432x288 with 1 Axes>"
      ]
     },
     "metadata": {
      "needs_background": "light"
     },
     "output_type": "display_data"
    }
   ],
   "source": [
    "plt.boxplot(pca_final_df.PC2)\n",
    "Q1 = pca_final_df.PC2.quantile(0.05)\n",
    "Q3 = pca_final_df.PC2.quantile(0.95)\n",
    "IQR = Q3 - Q1\n",
    "pca_final_df = pca_final_df[(pca_final_df.PC2 >= (Q1 - 1.5*IQR)) & (pca_final_df.PC2 <= (Q3 + 1.5*IQR))]"
   ]
  },
  {
   "cell_type": "code",
   "execution_count": 170,
   "metadata": {},
   "outputs": [
    {
     "data": {
      "image/png": "[encoded data removed]",
      "text/plain": [
       "<Figure size 432x288 with 1 Axes>"
      ]
     },
     "metadata": {
      "needs_background": "light"
     },
     "output_type": "display_data"
    }
   ],
   "source": [
    "plt.boxplot(pca_final_df.PC3)\n",
    "Q1 = pca_final_df.PC3.quantile(0.05)\n",
    "Q3 = pca_final_df.PC3.quantile(0.95)\n",
    "IQR = Q3 - Q1\n",
    "pca_final_df = pca_final_df[(pca_final_df.PC3 >= (Q1 - 1.5*IQR)) & (pca_final_df.PC3 <= (Q3 + 1.5*IQR))]"
   ]
  },
  {
   "cell_type": "code",
   "execution_count": 171,
   "metadata": {},
   "outputs": [
    {
     "data": {
      "image/png": "[encoded data removed]",
      "text/plain": [
       "<Figure size 432x288 with 1 Axes>"
      ]
     },
     "metadata": {
      "needs_background": "light"
     },
     "output_type": "display_data"
    }
   ],
   "source": [
    "plt.boxplot(pca_final_df.PC4)\n",
    "Q1 = pca_final_df.PC4.quantile(0.05)\n",
    "Q3 = pca_final_df.PC4.quantile(0.95)\n",
    "IQR = Q3 - Q1\n",
    "pca_final_df = pca_final_df[(pca_final_df.PC4 >= (Q1 - 1.5*IQR)) & (pca_final_df.PC4 <= (Q3 + 1.5*IQR))]"
   ]
  },
  {
   "cell_type": "code",
   "execution_count": 173,
   "metadata": {},
   "outputs": [
    {
     "data": {
      "image/png": "[encoded data removed]",
      "text/plain": [
       "<Figure size 432x288 with 1 Axes>"
      ]
     },
     "metadata": {
      "needs_background": "light"
     },
     "output_type": "display_data"
    }
   ],
   "source": [
    "plt.boxplot(pca_final_df.PC5)\n",
    "Q1 = pca_final_df.PC5.quantile(0.05)\n",
    "Q3 = pca_final_df.PC5.quantile(0.95)\n",
    "IQR = Q3 - Q1\n",
    "pca_final_df = pca_final_df[(pca_final_df.PC5 >= (Q1 - 1.5*IQR)) & (pca_final_df.PC5 <= (Q3 + 1.5*IQR))]"
   ]
  },
  {
   "cell_type": "code",
   "execution_count": 174,
   "metadata": {},
   "outputs": [
    {
     "data": {
      "text/plain": [
       "(166, 5)"
      ]
     },
     "execution_count": 174,
     "metadata": {},
     "output_type": "execute_result"
    }
   ],
   "source": [
    "pca_final_df.shape"
   ]
  },
  {
   "cell_type": "markdown",
   "metadata": {},
   "source": [
    "### 6. Clustering"
   ]
  },
  {
   "cell_type": "markdown",
   "metadata": {},
   "source": [
    "#### 6.1 Hopkins Test - Determining Clustering Tendency"
   ]
  },
  {
   "cell_type": "code",
   "execution_count": 175,
   "metadata": {},
   "outputs": [],
   "source": [
    "def hopkins(X):\n",
    "    d = X.shape[1]\n",
    "    #d = len(vars) # columns\n",
    "    n = len(X) # rows\n",
    "    m = int(0.1 * n) \n",
    "    nbrs = NearestNeighbors(n_neighbors=1).fit(X.values)\n",
    " \n",
    "    rand_X = sample(range(0, n, 1), m)\n",
    " \n",
    "    ujd = []\n",
    "    wjd = []\n",
    "    for j in range(0, m):\n",
    "        u_dist, _ = nbrs.kneighbors(uniform(np.amin(X,axis=0),np.amax(X,axis=0),d).reshape(1, -1), 2, return_distance=True)\n",
    "        ujd.append(u_dist[0][1])\n",
    "        w_dist, _ = nbrs.kneighbors(X.iloc[rand_X[j]].values.reshape(1, -1), 2, return_distance=True)\n",
    "        wjd.append(w_dist[0][1])\n",
    " \n",
    "    H = sum(ujd) / (sum(ujd) + sum(wjd))\n",
    "    if isnan(H):\n",
    "        print(ujd, wjd)\n",
    "        H = 0\n",
    " \n",
    "    return H"
   ]
  },
  {
   "cell_type": "code",
   "execution_count": 176,
   "metadata": {},
   "outputs": [
    {
     "data": {
      "text/plain": [
       "0.7930563046977493"
      ]
     },
     "execution_count": 176,
     "metadata": {},
     "output_type": "execute_result"
    }
   ],
   "source": [
    "hopkins(pca_final_df)"
   ]
  },
  {
   "cell_type": "code",
   "execution_count": 177,
   "metadata": {},
   "outputs": [],
   "source": [
    "pca_final_df_km = pca_final_df"
   ]
  },
  {
   "cell_type": "markdown",
   "metadata": {},
   "source": [
    "#### Since the value is > 0.5 the given dataset has a good tendency to form clusters."
   ]
  },
  {
   "cell_type": "markdown",
   "metadata": {},
   "source": [
    "#### 6.2 Finding the Optimal Number of Clusters - Silhouette Analysis"
   ]
  },
  {
   "cell_type": "code",
   "execution_count": 178,
   "metadata": {},
   "outputs": [
    {
     "name": "stdout",
     "output_type": "stream",
     "text": [
      "For n_clusters=2, the silhouette score is 0.30472991041393127\n",
      "For n_clusters=3, the silhouette score is 0.31388109894042077\n",
      "For n_clusters=4, the silhouette score is 0.33243925995247847\n",
      "For n_clusters=5, the silhouette score is 0.2626942715050597\n",
      "For n_clusters=6, the silhouette score is 0.27955520983391924\n",
      "For n_clusters=7, the silhouette score is 0.27049272567688387\n",
      "For n_clusters=8, the silhouette score is 0.25517488276462075\n",
      "For n_clusters=9, the silhouette score is 0.2274386285268286\n",
      "For n_clusters=10, the silhouette score is 0.22587878897101804\n"
     ]
    }
   ],
   "source": [
    "# silhouette analysis\n",
    "range_n_clusters = [2, 3, 4, 5, 6, 7, 8, 9, 10]\n",
    "\n",
    "for num_clusters in range_n_clusters:\n",
    "    \n",
    "    # intialise kmeans\n",
    "    kmeans = KMeans(n_clusters=num_clusters, max_iter=50)\n",
    "    kmeans.fit(pca_final_df_km)\n",
    "    \n",
    "    cluster_labels = kmeans.labels_\n",
    "    \n",
    "    # silhouette score\n",
    "    silhouette_avg = silhouette_score(pca_final_df_km, cluster_labels)\n",
    "    print(\"For n_clusters={0}, the silhouette score is {1}\".format(num_clusters, silhouette_avg))"
   ]
  },
  {
   "cell_type": "code",
   "execution_count": 179,
   "metadata": {},
   "outputs": [],
   "source": [
    "#First we'll do the silhouette score analysis\n",
    "sse_ = []\n",
    "for k in range(2, 10):\n",
    "    kmeans = KMeans(n_clusters=k).fit(pca_final_df_km)\n",
    "    sse_.append([k, silhouette_score(pca_final_df_km, kmeans.labels_)])"
   ]
  },
  {
   "cell_type": "code",
   "execution_count": 180,
   "metadata": {},
   "outputs": [
    {
     "data": {
      "image/png": "[encoded data removed]",
      "text/plain": [
       "<Figure size 432x288 with 1 Axes>"
      ]
     },
     "metadata": {
      "needs_background": "light"
     },
     "output_type": "display_data"
    }
   ],
   "source": [
    "plt.plot(pd.DataFrame(sse_)[0], pd.DataFrame(sse_)[1]);"
   ]
  },
  {
   "cell_type": "markdown",
   "metadata": {},
   "source": [
    "### Observation\n",
    ">> Silhouette score is highest at number of clusters = 4. Therefore, selecting 4 clusters"
   ]
  },
  {
   "cell_type": "markdown",
   "metadata": {},
   "source": [
    "#### 6.3 Finding the Optimal Number of Clusters - SSD Analysis"
   ]
  },
  {
   "cell_type": "code",
   "execution_count": 181,
   "metadata": {},
   "outputs": [
    {
     "data": {
      "text/plain": [
       "[<matplotlib.lines.Line2D at 0x270f30224a8>]"
      ]
     },
     "execution_count": 181,
     "metadata": {},
     "output_type": "execute_result"
    },
    {
     "data": {
      "image/png": "[encoded data removed]",
      "text/plain": [
       "<Figure size 432x288 with 1 Axes>"
      ]
     },
     "metadata": {
      "needs_background": "light"
     },
     "output_type": "display_data"
    }
   ],
   "source": [
    "ssd = []\n",
    "for num_clusters in list(range(1,10)):\n",
    "    model_clus = KMeans(n_clusters = num_clusters, max_iter=50)\n",
    "    model_clus.fit(pca_final_df_km)\n",
    "    ssd.append(model_clus.inertia_)\n",
    "\n",
    "plt.plot(ssd)"
   ]
  },
  {
   "cell_type": "markdown",
   "metadata": {},
   "source": [
    "### 7. Modelling - KMeans Clustering"
   ]
  },
  {
   "cell_type": "code",
   "execution_count": 182,
   "metadata": {},
   "outputs": [
    {
     "data": {
      "text/plain": [
       "KMeans(algorithm='auto', copy_x=True, init='k-means++', max_iter=50,\n",
       "    n_clusters=4, n_init=10, n_jobs=None, precompute_distances='auto',\n",
       "    random_state=50, tol=0.0001, verbose=0)"
      ]
     },
     "execution_count": 182,
     "metadata": {},
     "output_type": "execute_result"
    }
   ],
   "source": [
    "#Let's perform K means using K=4\n",
    "kmeans_model = KMeans(n_clusters = 4, max_iter=50,random_state = 50)\n",
    "kmeans_model.fit(pca_final_df_km)"
   ]
  },
  {
   "cell_type": "code",
   "execution_count": 184,
   "metadata": {},
   "outputs": [
    {
     "data": {
      "text/html": [
       "<div>\n",
       "<style scoped>\n",
       "    .dataframe tbody tr th:only-of-type {\n",
       "        vertical-align: middle;\n",
       "    }\n",
       "\n",
       "    .dataframe tbody tr th {\n",
       "        vertical-align: top;\n",
       "    }\n",
       "\n",
       "    .dataframe thead th {\n",
       "        text-align: right;\n",
       "    }\n",
       "</style>\n",
       "<table border=\"1\" class=\"dataframe\">\n",
       "  <thead>\n",
       "    <tr style=\"text-align: right;\">\n",
       "      <th></th>\n",
       "      <th>PC1</th>\n",
       "      <th>PC2</th>\n",
       "      <th>PC3</th>\n",
       "      <th>PC4</th>\n",
       "      <th>PC5</th>\n",
       "      <th>ClusterID</th>\n",
       "    </tr>\n",
       "  </thead>\n",
       "  <tbody>\n",
       "    <tr>\n",
       "      <th>0</th>\n",
       "      <td>-2.913000</td>\n",
       "      <td>0.091969</td>\n",
       "      <td>-0.721242</td>\n",
       "      <td>1.001838</td>\n",
       "      <td>-0.146765</td>\n",
       "      <td>0</td>\n",
       "    </tr>\n",
       "    <tr>\n",
       "      <th>1</th>\n",
       "      <td>0.429870</td>\n",
       "      <td>-0.589373</td>\n",
       "      <td>-0.328611</td>\n",
       "      <td>-1.165014</td>\n",
       "      <td>0.153205</td>\n",
       "      <td>1</td>\n",
       "    </tr>\n",
       "    <tr>\n",
       "      <th>2</th>\n",
       "      <td>-0.285289</td>\n",
       "      <td>-0.452139</td>\n",
       "      <td>1.232051</td>\n",
       "      <td>-0.857767</td>\n",
       "      <td>0.191227</td>\n",
       "      <td>1</td>\n",
       "    </tr>\n",
       "    <tr>\n",
       "      <th>3</th>\n",
       "      <td>-2.932714</td>\n",
       "      <td>1.698771</td>\n",
       "      <td>1.525076</td>\n",
       "      <td>0.855595</td>\n",
       "      <td>-0.214778</td>\n",
       "      <td>0</td>\n",
       "    </tr>\n",
       "    <tr>\n",
       "      <th>4</th>\n",
       "      <td>1.033371</td>\n",
       "      <td>0.133853</td>\n",
       "      <td>-0.216699</td>\n",
       "      <td>-0.846638</td>\n",
       "      <td>-0.193186</td>\n",
       "      <td>1</td>\n",
       "    </tr>\n",
       "  </tbody>\n",
       "</table>\n",
       "</div>"
      ],
      "text/plain": [
       "        PC1       PC2       PC3       PC4       PC5  ClusterID\n",
       "0 -2.913000  0.091969 -0.721242  1.001838 -0.146765          0\n",
       "1  0.429870 -0.589373 -0.328611 -1.165014  0.153205          1\n",
       "2 -0.285289 -0.452139  1.232051 -0.857767  0.191227          1\n",
       "3 -2.932714  1.698771  1.525076  0.855595 -0.214778          0\n",
       "4  1.033371  0.133853 -0.216699 -0.846638 -0.193186          1"
      ]
     },
     "execution_count": 184,
     "metadata": {},
     "output_type": "execute_result"
    }
   ],
   "source": [
    "pca_final_df_km['ClusterID'] = kmeans_model.labels_ \n",
    "pca_final_df_km.head(5)"
   ]
  },
  {
   "cell_type": "code",
   "execution_count": 185,
   "metadata": {},
   "outputs": [
    {
     "data": {
      "text/plain": [
       "1    86\n",
       "0    47\n",
       "2    30\n",
       "3     3\n",
       "Name: ClusterID, dtype: int64"
      ]
     },
     "execution_count": 185,
     "metadata": {},
     "output_type": "execute_result"
    }
   ],
   "source": [
    "pca_final_df_km['ClusterID'].value_counts()"
   ]
  },
  {
   "cell_type": "code",
   "execution_count": 190,
   "metadata": {},
   "outputs": [
    {
     "data": {
      "text/plain": [
       "<matplotlib.axes._subplots.AxesSubplot at 0x270f0978e80>"
      ]
     },
     "execution_count": 190,
     "metadata": {},
     "output_type": "execute_result"
    },
    {
     "data": {
      "image/png": "[encoded data removed]",
      "text/plain": [
       "<Figure size 432x288 with 1 Axes>"
      ]
     },
     "metadata": {
      "needs_background": "light"
     },
     "output_type": "display_data"
    }
   ],
   "source": [
    "sns.scatterplot(x='PC1',y='PC2',hue='ClusterID',legend='full',data=pca_final_df_km)"
   ]
  },
  {
   "cell_type": "code",
   "execution_count": 188,
   "metadata": {},
   "outputs": [
    {
     "data": {
      "text/plain": [
       "(166, 6)"
      ]
     },
     "execution_count": 188,
     "metadata": {},
     "output_type": "execute_result"
    }
   ],
   "source": [
    "pca_final_df_km.shape"
   ]
  },
  {
   "cell_type": "code",
   "execution_count": 195,
   "metadata": {},
   "outputs": [
    {
     "data": {
      "text/html": [
       "<div>\n",
       "<style scoped>\n",
       "    .dataframe tbody tr th:only-of-type {\n",
       "        vertical-align: middle;\n",
       "    }\n",
       "\n",
       "    .dataframe tbody tr th {\n",
       "        vertical-align: top;\n",
       "    }\n",
       "\n",
       "    .dataframe thead th {\n",
       "        text-align: right;\n",
       "    }\n",
       "</style>\n",
       "<table border=\"1\" class=\"dataframe\">\n",
       "  <thead>\n",
       "    <tr style=\"text-align: right;\">\n",
       "      <th></th>\n",
       "      <th>country</th>\n",
       "      <th>child_mort</th>\n",
       "      <th>exports</th>\n",
       "      <th>health</th>\n",
       "      <th>imports</th>\n",
       "      <th>income</th>\n",
       "      <th>inflation</th>\n",
       "      <th>life_expec</th>\n",
       "      <th>total_fer</th>\n",
       "      <th>gdpp</th>\n",
       "      <th>PC1</th>\n",
       "      <th>PC2</th>\n",
       "      <th>PC3</th>\n",
       "      <th>PC4</th>\n",
       "      <th>PC5</th>\n",
       "      <th>ClusterID</th>\n",
       "    </tr>\n",
       "  </thead>\n",
       "  <tbody>\n",
       "    <tr>\n",
       "      <th>0</th>\n",
       "      <td>Afghanistan</td>\n",
       "      <td>90.2</td>\n",
       "      <td>10.0</td>\n",
       "      <td>7.58</td>\n",
       "      <td>44.9</td>\n",
       "      <td>1610</td>\n",
       "      <td>9.44</td>\n",
       "      <td>56.2</td>\n",
       "      <td>5.82</td>\n",
       "      <td>553</td>\n",
       "      <td>-2.913000</td>\n",
       "      <td>0.091969</td>\n",
       "      <td>-0.721242</td>\n",
       "      <td>1.001838</td>\n",
       "      <td>-0.146765</td>\n",
       "      <td>0</td>\n",
       "    </tr>\n",
       "    <tr>\n",
       "      <th>1</th>\n",
       "      <td>Albania</td>\n",
       "      <td>16.6</td>\n",
       "      <td>28.0</td>\n",
       "      <td>6.55</td>\n",
       "      <td>48.6</td>\n",
       "      <td>9930</td>\n",
       "      <td>4.49</td>\n",
       "      <td>76.3</td>\n",
       "      <td>1.65</td>\n",
       "      <td>4090</td>\n",
       "      <td>0.429870</td>\n",
       "      <td>-0.589373</td>\n",
       "      <td>-0.328611</td>\n",
       "      <td>-1.165014</td>\n",
       "      <td>0.153205</td>\n",
       "      <td>1</td>\n",
       "    </tr>\n",
       "    <tr>\n",
       "      <th>2</th>\n",
       "      <td>Algeria</td>\n",
       "      <td>27.3</td>\n",
       "      <td>38.4</td>\n",
       "      <td>4.17</td>\n",
       "      <td>31.4</td>\n",
       "      <td>12900</td>\n",
       "      <td>16.10</td>\n",
       "      <td>76.5</td>\n",
       "      <td>2.89</td>\n",
       "      <td>4460</td>\n",
       "      <td>-0.285289</td>\n",
       "      <td>-0.452139</td>\n",
       "      <td>1.232051</td>\n",
       "      <td>-0.857767</td>\n",
       "      <td>0.191227</td>\n",
       "      <td>1</td>\n",
       "    </tr>\n",
       "    <tr>\n",
       "      <th>3</th>\n",
       "      <td>Angola</td>\n",
       "      <td>119.0</td>\n",
       "      <td>62.3</td>\n",
       "      <td>2.85</td>\n",
       "      <td>42.9</td>\n",
       "      <td>5900</td>\n",
       "      <td>22.40</td>\n",
       "      <td>60.1</td>\n",
       "      <td>6.16</td>\n",
       "      <td>3530</td>\n",
       "      <td>-2.932714</td>\n",
       "      <td>1.698771</td>\n",
       "      <td>1.525076</td>\n",
       "      <td>0.855595</td>\n",
       "      <td>-0.214778</td>\n",
       "      <td>0</td>\n",
       "    </tr>\n",
       "    <tr>\n",
       "      <th>4</th>\n",
       "      <td>Antigua and Barbuda</td>\n",
       "      <td>10.3</td>\n",
       "      <td>45.5</td>\n",
       "      <td>6.03</td>\n",
       "      <td>58.9</td>\n",
       "      <td>19100</td>\n",
       "      <td>1.44</td>\n",
       "      <td>76.8</td>\n",
       "      <td>2.13</td>\n",
       "      <td>12200</td>\n",
       "      <td>1.033371</td>\n",
       "      <td>0.133853</td>\n",
       "      <td>-0.216699</td>\n",
       "      <td>-0.846638</td>\n",
       "      <td>-0.193186</td>\n",
       "      <td>1</td>\n",
       "    </tr>\n",
       "  </tbody>\n",
       "</table>\n",
       "</div>"
      ],
      "text/plain": [
       "               country  child_mort  exports  health  imports  income  \\\n",
       "0          Afghanistan        90.2     10.0    7.58     44.9    1610   \n",
       "1              Albania        16.6     28.0    6.55     48.6    9930   \n",
       "2              Algeria        27.3     38.4    4.17     31.4   12900   \n",
       "3               Angola       119.0     62.3    2.85     42.9    5900   \n",
       "4  Antigua and Barbuda        10.3     45.5    6.03     58.9   19100   \n",
       "\n",
       "   inflation  life_expec  total_fer   gdpp       PC1       PC2       PC3  \\\n",
       "0       9.44        56.2       5.82    553 -2.913000  0.091969 -0.721242   \n",
       "1       4.49        76.3       1.65   4090  0.429870 -0.589373 -0.328611   \n",
       "2      16.10        76.5       2.89   4460 -0.285289 -0.452139  1.232051   \n",
       "3      22.40        60.1       6.16   3530 -2.932714  1.698771  1.525076   \n",
       "4       1.44        76.8       2.13  12200  1.033371  0.133853 -0.216699   \n",
       "\n",
       "        PC4       PC5  ClusterID  \n",
       "0  1.001838 -0.146765          0  \n",
       "1 -1.165014  0.153205          1  \n",
       "2 -0.857767  0.191227          1  \n",
       "3  0.855595 -0.214778          0  \n",
       "4 -0.846638 -0.193186          1  "
      ]
     },
     "execution_count": 195,
     "metadata": {},
     "output_type": "execute_result"
    }
   ],
   "source": [
    "# Merge cluster IDs with original dataset\n",
    "country_df_clusID = pd.merge(country_df,pca_final_df_km,left_index=True,right_index=True)\n",
    "country_df_clusID.head(5)"
   ]
  },
  {
   "cell_type": "code",
   "execution_count": 197,
   "metadata": {},
   "outputs": [
    {
     "data": {
      "text/html": [
       "<div>\n",
       "<style scoped>\n",
       "    .dataframe tbody tr th:only-of-type {\n",
       "        vertical-align: middle;\n",
       "    }\n",
       "\n",
       "    .dataframe tbody tr th {\n",
       "        vertical-align: top;\n",
       "    }\n",
       "\n",
       "    .dataframe thead th {\n",
       "        text-align: right;\n",
       "    }\n",
       "</style>\n",
       "<table border=\"1\" class=\"dataframe\">\n",
       "  <thead>\n",
       "    <tr style=\"text-align: right;\">\n",
       "      <th></th>\n",
       "      <th>country</th>\n",
       "      <th>child_mort</th>\n",
       "      <th>exports</th>\n",
       "      <th>health</th>\n",
       "      <th>imports</th>\n",
       "      <th>income</th>\n",
       "      <th>inflation</th>\n",
       "      <th>life_expec</th>\n",
       "      <th>total_fer</th>\n",
       "      <th>gdpp</th>\n",
       "      <th>ClusterID</th>\n",
       "    </tr>\n",
       "  </thead>\n",
       "  <tbody>\n",
       "    <tr>\n",
       "      <th>0</th>\n",
       "      <td>Afghanistan</td>\n",
       "      <td>90.2</td>\n",
       "      <td>10.0</td>\n",
       "      <td>7.58</td>\n",
       "      <td>44.9</td>\n",
       "      <td>1610</td>\n",
       "      <td>9.44</td>\n",
       "      <td>56.2</td>\n",
       "      <td>5.82</td>\n",
       "      <td>553</td>\n",
       "      <td>0</td>\n",
       "    </tr>\n",
       "    <tr>\n",
       "      <th>1</th>\n",
       "      <td>Albania</td>\n",
       "      <td>16.6</td>\n",
       "      <td>28.0</td>\n",
       "      <td>6.55</td>\n",
       "      <td>48.6</td>\n",
       "      <td>9930</td>\n",
       "      <td>4.49</td>\n",
       "      <td>76.3</td>\n",
       "      <td>1.65</td>\n",
       "      <td>4090</td>\n",
       "      <td>1</td>\n",
       "    </tr>\n",
       "    <tr>\n",
       "      <th>2</th>\n",
       "      <td>Algeria</td>\n",
       "      <td>27.3</td>\n",
       "      <td>38.4</td>\n",
       "      <td>4.17</td>\n",
       "      <td>31.4</td>\n",
       "      <td>12900</td>\n",
       "      <td>16.10</td>\n",
       "      <td>76.5</td>\n",
       "      <td>2.89</td>\n",
       "      <td>4460</td>\n",
       "      <td>1</td>\n",
       "    </tr>\n",
       "    <tr>\n",
       "      <th>3</th>\n",
       "      <td>Angola</td>\n",
       "      <td>119.0</td>\n",
       "      <td>62.3</td>\n",
       "      <td>2.85</td>\n",
       "      <td>42.9</td>\n",
       "      <td>5900</td>\n",
       "      <td>22.40</td>\n",
       "      <td>60.1</td>\n",
       "      <td>6.16</td>\n",
       "      <td>3530</td>\n",
       "      <td>0</td>\n",
       "    </tr>\n",
       "    <tr>\n",
       "      <th>4</th>\n",
       "      <td>Antigua and Barbuda</td>\n",
       "      <td>10.3</td>\n",
       "      <td>45.5</td>\n",
       "      <td>6.03</td>\n",
       "      <td>58.9</td>\n",
       "      <td>19100</td>\n",
       "      <td>1.44</td>\n",
       "      <td>76.8</td>\n",
       "      <td>2.13</td>\n",
       "      <td>12200</td>\n",
       "      <td>1</td>\n",
       "    </tr>\n",
       "  </tbody>\n",
       "</table>\n",
       "</div>"
      ],
      "text/plain": [
       "               country  child_mort  exports  health  imports  income  \\\n",
       "0          Afghanistan        90.2     10.0    7.58     44.9    1610   \n",
       "1              Albania        16.6     28.0    6.55     48.6    9930   \n",
       "2              Algeria        27.3     38.4    4.17     31.4   12900   \n",
       "3               Angola       119.0     62.3    2.85     42.9    5900   \n",
       "4  Antigua and Barbuda        10.3     45.5    6.03     58.9   19100   \n",
       "\n",
       "   inflation  life_expec  total_fer   gdpp  ClusterID  \n",
       "0       9.44        56.2       5.82    553          0  \n",
       "1       4.49        76.3       1.65   4090          1  \n",
       "2      16.10        76.5       2.89   4460          1  \n",
       "3      22.40        60.1       6.16   3530          0  \n",
       "4       1.44        76.8       2.13  12200          1  "
      ]
     },
     "execution_count": 197,
     "metadata": {},
     "output_type": "execute_result"
    }
   ],
   "source": [
    "country_df_clusID = country_df_clusID.drop(['PC1','PC2','PC3','PC4','PC5'],axis=1)\n",
    "country_df_clusID.head(5)"
   ]
  },
  {
   "cell_type": "markdown",
   "metadata": {},
   "source": [
    "#### 7.1 Analyzing the Clusters"
   ]
  },
  {
   "cell_type": "code",
   "execution_count": 198,
   "metadata": {},
   "outputs": [
    {
     "data": {
      "text/plain": [
       "1    86\n",
       "0    47\n",
       "2    30\n",
       "3     3\n",
       "Name: ClusterID, dtype: int64"
      ]
     },
     "execution_count": 198,
     "metadata": {},
     "output_type": "execute_result"
    }
   ],
   "source": [
    "country_df_clusID['ClusterID'].value_counts()"
   ]
  },
  {
   "cell_type": "code",
   "execution_count": 200,
   "metadata": {},
   "outputs": [
    {
     "data": {
      "text/plain": [
       "<matplotlib.axes._subplots.AxesSubplot at 0x270efc7da90>"
      ]
     },
     "execution_count": 200,
     "metadata": {},
     "output_type": "execute_result"
    },
    {
     "data": {
      "image/png": "[encoded data removed]",
      "text/plain": [
       "<Figure size 432x288 with 1 Axes>"
      ]
     },
     "metadata": {
      "needs_background": "light"
     },
     "output_type": "display_data"
    }
   ],
   "source": [
    "sns.boxplot(x='ClusterID',y='gdpp',data=country_df_clusID)"
   ]
  },
  {
   "cell_type": "markdown",
   "metadata": {},
   "source": [
    "#### Observation #1 - \"gdpp\" increases from cluster 0 to cluster 3 in terms of mean and the spread as well"
   ]
  },
  {
   "cell_type": "code",
   "execution_count": 202,
   "metadata": {},
   "outputs": [
    {
     "data": {
      "text/plain": [
       "<matplotlib.axes._subplots.AxesSubplot at 0x270f2e045c0>"
      ]
     },
     "execution_count": 202,
     "metadata": {},
     "output_type": "execute_result"
    },
    {
     "data": {
      "image/png": "[encoded data removed]",
      "text/plain": [
       "<Figure size 432x288 with 1 Axes>"
      ]
     },
     "metadata": {
      "needs_background": "light"
     },
     "output_type": "display_data"
    }
   ],
   "source": [
    "sns.boxplot(x='ClusterID',y='child_mort',data=country_df_clusID)"
   ]
  },
  {
   "cell_type": "markdown",
   "metadata": {},
   "source": [
    "#### Observation #2 - \"child mortality\" decreases gradually from cluster 0 to cluster 3 in terms of mean and the spread as well\n",
    "#### Observation #3 - Trend of \"child mortality\" is exact opposite of \"gdpp\""
   ]
  },
  {
   "cell_type": "code",
   "execution_count": 203,
   "metadata": {},
   "outputs": [
    {
     "data": {
      "text/plain": [
       "<matplotlib.axes._subplots.AxesSubplot at 0x270f2a57128>"
      ]
     },
     "execution_count": 203,
     "metadata": {},
     "output_type": "execute_result"
    },
    {
     "data": {
      "image/png": "[encoded data removed]",
      "text/plain": [
       "<Figure size 432x288 with 1 Axes>"
      ]
     },
     "metadata": {
      "needs_background": "light"
     },
     "output_type": "display_data"
    }
   ],
   "source": [
    "sns.boxplot(x='ClusterID',y='income',data=country_df_clusID)"
   ]
  },
  {
   "cell_type": "markdown",
   "metadata": {},
   "source": [
    "#### Observation #4 - \"Income\" increases from cluster 0 to cluster 3 in terms of mean and the spread as well\n",
    "#### Observation #5 - trend of \"Income\" is almost similar to \"gdpp\" which is expected"
   ]
  },
  {
   "cell_type": "code",
   "execution_count": 206,
   "metadata": {},
   "outputs": [
    {
     "data": {
      "text/plain": [
       "<matplotlib.axes._subplots.AxesSubplot at 0x270f2aef048>"
      ]
     },
     "execution_count": 206,
     "metadata": {},
     "output_type": "execute_result"
    },
    {
     "data": {
      "image/png": "[encoded data removed]",
      "text/plain": [
       "<Figure size 432x288 with 1 Axes>"
      ]
     },
     "metadata": {
      "needs_background": "light"
     },
     "output_type": "display_data"
    }
   ],
   "source": [
    "sns.boxplot(x='ClusterID',y='exports',data=country_df_clusID)"
   ]
  },
  {
   "cell_type": "markdown",
   "metadata": {},
   "source": [
    "#### Observation #6 - \"exports\" increases from cluster 0 to cluster 3. This is similar to \"Income\" and \"gdpp\". However, for cluster 3 the exports see a huge jump"
   ]
  },
  {
   "cell_type": "code",
   "execution_count": 207,
   "metadata": {},
   "outputs": [
    {
     "data": {
      "text/plain": [
       "<matplotlib.axes._subplots.AxesSubplot at 0x270f2f2a940>"
      ]
     },
     "execution_count": 207,
     "metadata": {},
     "output_type": "execute_result"
    },
    {
     "data": {
      "image/png": "[encoded data removed]",
      "text/plain": [
       "<Figure size 432x288 with 1 Axes>"
      ]
     },
     "metadata": {
      "needs_background": "light"
     },
     "output_type": "display_data"
    }
   ],
   "source": [
    "sns.boxplot(x='ClusterID',y='imports',data=country_df_clusID)"
   ]
  },
  {
   "cell_type": "code",
   "execution_count": 208,
   "metadata": {},
   "outputs": [
    {
     "data": {
      "text/plain": [
       "<matplotlib.axes._subplots.AxesSubplot at 0x270f2af8e48>"
      ]
     },
     "execution_count": 208,
     "metadata": {},
     "output_type": "execute_result"
    },
    {
     "data": {
      "image/png": "[encoded data removed]",
      "text/plain": [
       "<Figure size 432x288 with 1 Axes>"
      ]
     },
     "metadata": {
      "needs_background": "light"
     },
     "output_type": "display_data"
    }
   ],
   "source": [
    "sns.boxplot(x='ClusterID',y='health',data=country_df_clusID)"
   ]
  },
  {
   "cell_type": "markdown",
   "metadata": {},
   "source": [
    "#### Observation #7 - Cluster 2 has the highest average on Total health spending as %age of Total GDP"
   ]
  },
  {
   "cell_type": "code",
   "execution_count": 209,
   "metadata": {},
   "outputs": [
    {
     "data": {
      "text/plain": [
       "<matplotlib.axes._subplots.AxesSubplot at 0x270f30edc18>"
      ]
     },
     "execution_count": 209,
     "metadata": {},
     "output_type": "execute_result"
    },
    {
     "data": {
      "image/png": "[encoded data removed]",
      "text/plain": [
       "<Figure size 432x288 with 1 Axes>"
      ]
     },
     "metadata": {
      "needs_background": "light"
     },
     "output_type": "display_data"
    }
   ],
   "source": [
    "sns.boxplot(x='ClusterID',y='inflation',data=country_df_clusID)"
   ]
  },
  {
   "cell_type": "code",
   "execution_count": 210,
   "metadata": {},
   "outputs": [
    {
     "data": {
      "text/plain": [
       "<matplotlib.axes._subplots.AxesSubplot at 0x270f316de48>"
      ]
     },
     "execution_count": 210,
     "metadata": {},
     "output_type": "execute_result"
    },
    {
     "data": {
      "image/png": "[encoded data removed]",
      "text/plain": [
       "<Figure size 432x288 with 1 Axes>"
      ]
     },
     "metadata": {
      "needs_background": "light"
     },
     "output_type": "display_data"
    }
   ],
   "source": [
    "sns.boxplot(x='ClusterID',y='life_expec',data=country_df_clusID)"
   ]
  },
  {
   "cell_type": "code",
   "execution_count": 211,
   "metadata": {},
   "outputs": [
    {
     "data": {
      "text/plain": [
       "<matplotlib.axes._subplots.AxesSubplot at 0x270f31f7470>"
      ]
     },
     "execution_count": 211,
     "metadata": {},
     "output_type": "execute_result"
    },
    {
     "data": {
      "image/png": "[encoded data removed]",
      "text/plain": [
       "<Figure size 432x288 with 1 Axes>"
      ]
     },
     "metadata": {
      "needs_background": "light"
     },
     "output_type": "display_data"
    }
   ],
   "source": [
    "sns.boxplot(x='ClusterID',y='total_fer',data=country_df_clusID)"
   ]
  },
  {
   "cell_type": "markdown",
   "metadata": {},
   "source": [
    "#### 7.2 Summary\n",
    "> Cluster #3\n",
    ">> 1. Highest in \"gdpp\", \"exports\", \"imports\" and \"life_expectancy\"\n",
    ">> 2. Lowest in \"child mortality\" and \"total fertility\"\n",
    "\n",
    "> Cluster #2\n",
    ">> Second Highest or Second Lowest after Cluster #3 in most parameters expect - \n",
    ">> 1. Health (Total health spending as %age of Total GDP) - where it is the highest\n",
    ">> 2. Inflation (The measurement of the annual growth rate of the Total GDP) - where it is the lowest (lower than Cluster #3)\n",
    "\n",
    "> Cluster #1\n",
    ">> Second lowest after Cluster #0 or Second Highest after Cluster #0 in most parameters expect -\n",
    ">> 1. Imports - where it is the second highest after Cluster #3\n",
    "\n",
    "> Cluster #0\n",
    ">> 1. Highest in \"total_fertility\", \"inflation\" and \"child mortality\"\n",
    ">> 2. Lowest in the remaining ones"
   ]
  },
  {
   "cell_type": "markdown",
   "metadata": {},
   "source": [
    "### 8. Modelling - Hierarchial Clustering"
   ]
  },
  {
   "cell_type": "code",
   "execution_count": 213,
   "metadata": {},
   "outputs": [],
   "source": [
    "pca_final_df_hc = pca_final_df.drop('ClusterID',axis=1)"
   ]
  },
  {
   "cell_type": "markdown",
   "metadata": {},
   "source": [
    "#### 8.1 Single Linkage"
   ]
  },
  {
   "cell_type": "code",
   "execution_count": 216,
   "metadata": {},
   "outputs": [
    {
     "data": {
      "image/png": "[encoded data removed]",
      "text/plain": [
       "<Figure size 432x288 with 1 Axes>"
      ]
     },
     "metadata": {
      "needs_background": "light"
     },
     "output_type": "display_data"
    }
   ],
   "source": [
    "# single linkage\n",
    "mergings = linkage(pca_final_df_hc, method=\"single\", metric='euclidean')\n",
    "dendrogram(mergings)\n",
    "plt.show()"
   ]
  },
  {
   "cell_type": "markdown",
   "metadata": {},
   "source": [
    "#### 8.2 Complete Linkage"
   ]
  },
  {
   "cell_type": "code",
   "execution_count": 217,
   "metadata": {},
   "outputs": [
    {
     "data": {
      "image/png": "[encoded data removed]",
      "text/plain": [
       "<Figure size 432x288 with 1 Axes>"
      ]
     },
     "metadata": {
      "needs_background": "light"
     },
     "output_type": "display_data"
    }
   ],
   "source": [
    "# complete linkage\n",
    "mergings = linkage(pca_final_df_hc, method=\"complete\", metric='euclidean')\n",
    "dendrogram(mergings)\n",
    "plt.show()"
   ]
  },
  {
   "cell_type": "code",
   "execution_count": 218,
   "metadata": {},
   "outputs": [
    {
     "data": {
      "text/plain": [
       "array([0, 0, 0, 0, 0, 0, 0, 1, 1, 0, 0, 1, 0, 0, 0, 1, 0, 0, 0, 0, 0, 0,\n",
       "       0, 1, 0, 0, 0, 0, 0, 1, 0, 0, 0, 0, 0, 0, 0, 0, 0, 0, 0, 0, 0, 0,\n",
       "       1, 0, 0, 0, 0, 0, 0, 0, 0, 1, 1, 0, 0, 0, 1, 0, 1, 0, 0, 0, 0, 0,\n",
       "       0, 0, 1, 0, 0, 0, 0, 1, 0, 1, 0, 1, 0, 0, 0, 0, 1, 0, 0, 0, 0, 0,\n",
       "       0, 1, 0, 2, 0, 0, 0, 0, 0, 0, 2, 0, 0, 0, 0, 0, 0, 0, 0, 0, 0, 0,\n",
       "       1, 1, 0, 1, 1, 0, 0, 0, 0, 0, 0, 1, 1, 0, 0, 0, 0, 1, 0, 0, 2, 0,\n",
       "       2, 0, 0, 0, 0, 0, 1, 0, 0, 0, 0, 1, 1, 0, 0, 0, 0, 0, 0, 0, 0, 0,\n",
       "       0, 0, 1, 1, 1, 0, 0, 0, 0, 0, 0, 0])"
      ]
     },
     "execution_count": 218,
     "metadata": {},
     "output_type": "execute_result"
    }
   ],
   "source": [
    "# 3 clusters\n",
    "cluster_labels = cut_tree(mergings, n_clusters=3).reshape(-1, )\n",
    "cluster_labels"
   ]
  },
  {
   "cell_type": "code",
   "execution_count": 219,
   "metadata": {},
   "outputs": [
    {
     "data": {
      "text/html": [
       "<div>\n",
       "<style scoped>\n",
       "    .dataframe tbody tr th:only-of-type {\n",
       "        vertical-align: middle;\n",
       "    }\n",
       "\n",
       "    .dataframe tbody tr th {\n",
       "        vertical-align: top;\n",
       "    }\n",
       "\n",
       "    .dataframe thead th {\n",
       "        text-align: right;\n",
       "    }\n",
       "</style>\n",
       "<table border=\"1\" class=\"dataframe\">\n",
       "  <thead>\n",
       "    <tr style=\"text-align: right;\">\n",
       "      <th></th>\n",
       "      <th>country</th>\n",
       "      <th>child_mort</th>\n",
       "      <th>exports</th>\n",
       "      <th>health</th>\n",
       "      <th>imports</th>\n",
       "      <th>income</th>\n",
       "      <th>inflation</th>\n",
       "      <th>life_expec</th>\n",
       "      <th>total_fer</th>\n",
       "      <th>gdpp</th>\n",
       "      <th>ClusterID</th>\n",
       "      <th>cluster_labels</th>\n",
       "    </tr>\n",
       "  </thead>\n",
       "  <tbody>\n",
       "    <tr>\n",
       "      <th>0</th>\n",
       "      <td>Afghanistan</td>\n",
       "      <td>90.2</td>\n",
       "      <td>10.0</td>\n",
       "      <td>7.58</td>\n",
       "      <td>44.9</td>\n",
       "      <td>1610</td>\n",
       "      <td>9.44</td>\n",
       "      <td>56.2</td>\n",
       "      <td>5.82</td>\n",
       "      <td>553</td>\n",
       "      <td>0</td>\n",
       "      <td>0</td>\n",
       "    </tr>\n",
       "    <tr>\n",
       "      <th>1</th>\n",
       "      <td>Albania</td>\n",
       "      <td>16.6</td>\n",
       "      <td>28.0</td>\n",
       "      <td>6.55</td>\n",
       "      <td>48.6</td>\n",
       "      <td>9930</td>\n",
       "      <td>4.49</td>\n",
       "      <td>76.3</td>\n",
       "      <td>1.65</td>\n",
       "      <td>4090</td>\n",
       "      <td>1</td>\n",
       "      <td>0</td>\n",
       "    </tr>\n",
       "    <tr>\n",
       "      <th>2</th>\n",
       "      <td>Algeria</td>\n",
       "      <td>27.3</td>\n",
       "      <td>38.4</td>\n",
       "      <td>4.17</td>\n",
       "      <td>31.4</td>\n",
       "      <td>12900</td>\n",
       "      <td>16.10</td>\n",
       "      <td>76.5</td>\n",
       "      <td>2.89</td>\n",
       "      <td>4460</td>\n",
       "      <td>1</td>\n",
       "      <td>0</td>\n",
       "    </tr>\n",
       "    <tr>\n",
       "      <th>3</th>\n",
       "      <td>Angola</td>\n",
       "      <td>119.0</td>\n",
       "      <td>62.3</td>\n",
       "      <td>2.85</td>\n",
       "      <td>42.9</td>\n",
       "      <td>5900</td>\n",
       "      <td>22.40</td>\n",
       "      <td>60.1</td>\n",
       "      <td>6.16</td>\n",
       "      <td>3530</td>\n",
       "      <td>0</td>\n",
       "      <td>0</td>\n",
       "    </tr>\n",
       "    <tr>\n",
       "      <th>4</th>\n",
       "      <td>Antigua and Barbuda</td>\n",
       "      <td>10.3</td>\n",
       "      <td>45.5</td>\n",
       "      <td>6.03</td>\n",
       "      <td>58.9</td>\n",
       "      <td>19100</td>\n",
       "      <td>1.44</td>\n",
       "      <td>76.8</td>\n",
       "      <td>2.13</td>\n",
       "      <td>12200</td>\n",
       "      <td>1</td>\n",
       "      <td>0</td>\n",
       "    </tr>\n",
       "  </tbody>\n",
       "</table>\n",
       "</div>"
      ],
      "text/plain": [
       "               country  child_mort  exports  health  imports  income  \\\n",
       "0          Afghanistan        90.2     10.0    7.58     44.9    1610   \n",
       "1              Albania        16.6     28.0    6.55     48.6    9930   \n",
       "2              Algeria        27.3     38.4    4.17     31.4   12900   \n",
       "3               Angola       119.0     62.3    2.85     42.9    5900   \n",
       "4  Antigua and Barbuda        10.3     45.5    6.03     58.9   19100   \n",
       "\n",
       "   inflation  life_expec  total_fer   gdpp  ClusterID  cluster_labels  \n",
       "0       9.44        56.2       5.82    553          0               0  \n",
       "1       4.49        76.3       1.65   4090          1               0  \n",
       "2      16.10        76.5       2.89   4460          1               0  \n",
       "3      22.40        60.1       6.16   3530          0               0  \n",
       "4       1.44        76.8       2.13  12200          1               0  "
      ]
     },
     "execution_count": 219,
     "metadata": {},
     "output_type": "execute_result"
    }
   ],
   "source": [
    "country_df_clusID['cluster_labels'] = cluster_labels\n",
    "country_df_clusID.head(5)"
   ]
  },
  {
   "cell_type": "markdown",
   "metadata": {},
   "source": [
    "#### 8.3 Analyzing the Clusters - Hierarchial Clustering"
   ]
  },
  {
   "cell_type": "code",
   "execution_count": 220,
   "metadata": {},
   "outputs": [
    {
     "data": {
      "text/plain": [
       "0    132\n",
       "1     30\n",
       "2      4\n",
       "Name: cluster_labels, dtype: int64"
      ]
     },
     "execution_count": 220,
     "metadata": {},
     "output_type": "execute_result"
    }
   ],
   "source": [
    "country_df_clusID['cluster_labels'].value_counts()"
   ]
  },
  {
   "cell_type": "code",
   "execution_count": 221,
   "metadata": {},
   "outputs": [
    {
     "data": {
      "text/plain": [
       "<matplotlib.axes._subplots.AxesSubplot at 0x270f35d9908>"
      ]
     },
     "execution_count": 221,
     "metadata": {},
     "output_type": "execute_result"
    },
    {
     "data": {
      "image/png": "[encoded data removed]",
      "text/plain": [
       "<Figure size 432x288 with 1 Axes>"
      ]
     },
     "metadata": {
      "needs_background": "light"
     },
     "output_type": "display_data"
    }
   ],
   "source": [
    "sns.boxplot(x='cluster_labels',y='gdpp',data=country_df_clusID)"
   ]
  },
  {
   "cell_type": "code",
   "execution_count": 223,
   "metadata": {},
   "outputs": [
    {
     "data": {
      "text/plain": [
       "<matplotlib.axes._subplots.AxesSubplot at 0x270f36a0978>"
      ]
     },
     "execution_count": 223,
     "metadata": {},
     "output_type": "execute_result"
    },
    {
     "data": {
      "image/png": "[encoded data removed]",
      "text/plain": [
       "<Figure size 432x288 with 1 Axes>"
      ]
     },
     "metadata": {
      "needs_background": "light"
     },
     "output_type": "display_data"
    }
   ],
   "source": [
    "sns.boxplot(x='cluster_labels',y='child_mort',data=country_df_clusID)"
   ]
  },
  {
   "cell_type": "code",
   "execution_count": 224,
   "metadata": {},
   "outputs": [
    {
     "data": {
      "text/plain": [
       "<matplotlib.axes._subplots.AxesSubplot at 0x270f57d3c50>"
      ]
     },
     "execution_count": 224,
     "metadata": {},
     "output_type": "execute_result"
    },
    {
     "data": {
      "image/png": "[encoded data removed]",
      "text/plain": [
       "<Figure size 432x288 with 1 Axes>"
      ]
     },
     "metadata": {
      "needs_background": "light"
     },
     "output_type": "display_data"
    }
   ],
   "source": [
    "sns.boxplot(x='cluster_labels',y='income',data=country_df_clusID)"
   ]
  },
  {
   "cell_type": "code",
   "execution_count": 225,
   "metadata": {},
   "outputs": [
    {
     "data": {
      "text/plain": [
       "<matplotlib.axes._subplots.AxesSubplot at 0x270f5856240>"
      ]
     },
     "execution_count": 225,
     "metadata": {},
     "output_type": "execute_result"
    },
    {
     "data": {
      "image/png": "[encoded data removed]",
      "text/plain": [
       "<Figure size 432x288 with 1 Axes>"
      ]
     },
     "metadata": {
      "needs_background": "light"
     },
     "output_type": "display_data"
    }
   ],
   "source": [
    "sns.boxplot(x='cluster_labels',y='exports',data=country_df_clusID)"
   ]
  },
  {
   "cell_type": "code",
   "execution_count": 226,
   "metadata": {},
   "outputs": [
    {
     "data": {
      "text/plain": [
       "<matplotlib.axes._subplots.AxesSubplot at 0x270f5841780>"
      ]
     },
     "execution_count": 226,
     "metadata": {},
     "output_type": "execute_result"
    },
    {
     "data": {
      "image/png": "[encoded data removed]",
      "text/plain": [
       "<Figure size 432x288 with 1 Axes>"
      ]
     },
     "metadata": {
      "needs_background": "light"
     },
     "output_type": "display_data"
    }
   ],
   "source": [
    "sns.boxplot(x='cluster_labels',y='imports',data=country_df_clusID)"
   ]
  },
  {
   "cell_type": "code",
   "execution_count": 227,
   "metadata": {},
   "outputs": [
    {
     "data": {
      "text/plain": [
       "<matplotlib.axes._subplots.AxesSubplot at 0x270f58d8d68>"
      ]
     },
     "execution_count": 227,
     "metadata": {},
     "output_type": "execute_result"
    },
    {
     "data": {
      "image/png": "[encoded data removed]",
      "text/plain": [
       "<Figure size 432x288 with 1 Axes>"
      ]
     },
     "metadata": {
      "needs_background": "light"
     },
     "output_type": "display_data"
    }
   ],
   "source": [
    "sns.boxplot(x='cluster_labels',y='health',data=country_df_clusID)"
   ]
  },
  {
   "cell_type": "code",
   "execution_count": 228,
   "metadata": {},
   "outputs": [
    {
     "data": {
      "text/plain": [
       "<matplotlib.axes._subplots.AxesSubplot at 0x270f59c3d30>"
      ]
     },
     "execution_count": 228,
     "metadata": {},
     "output_type": "execute_result"
    },
    {
     "data": {
      "image/png": "[encoded data removed]",
      "text/plain": [
       "<Figure size 432x288 with 1 Axes>"
      ]
     },
     "metadata": {
      "needs_background": "light"
     },
     "output_type": "display_data"
    }
   ],
   "source": [
    "sns.boxplot(x='cluster_labels',y='inflation',data=country_df_clusID)"
   ]
  },
  {
   "cell_type": "code",
   "execution_count": 230,
   "metadata": {},
   "outputs": [
    {
     "data": {
      "text/plain": [
       "<matplotlib.axes._subplots.AxesSubplot at 0x270f5a3d438>"
      ]
     },
     "execution_count": 230,
     "metadata": {},
     "output_type": "execute_result"
    },
    {
     "data": {
      "image/png": "[encoded data removed]",
      "text/plain": [
       "<Figure size 432x288 with 1 Axes>"
      ]
     },
     "metadata": {
      "needs_background": "light"
     },
     "output_type": "display_data"
    }
   ],
   "source": [
    "sns.boxplot(x='cluster_labels',y='total_fer',data=country_df_clusID)"
   ]
  },
  {
   "cell_type": "code",
   "execution_count": 231,
   "metadata": {},
   "outputs": [
    {
     "data": {
      "text/plain": [
       "<matplotlib.axes._subplots.AxesSubplot at 0x270f5ae27b8>"
      ]
     },
     "execution_count": 231,
     "metadata": {},
     "output_type": "execute_result"
    },
    {
     "data": {
      "image/png": "[encoded data removed]",
      "text/plain": [
       "<Figure size 432x288 with 1 Axes>"
      ]
     },
     "metadata": {
      "needs_background": "light"
     },
     "output_type": "display_data"
    }
   ],
   "source": [
    "sns.boxplot(x='cluster_labels',y='life_expec',data=country_df_clusID)"
   ]
  },
  {
   "cell_type": "markdown",
   "metadata": {},
   "source": [
    "### Observations\n",
    ">> 1. The trend above is broadly similar to what was observed with KMeans except for the fact that now we have just 3 clusters instead of 4 \n",
    ">> 2. Cluster #1 \n",
    ">>> 2.1 Here Cluster #1 has the highest \"gdpp\" average and highest \"health\" (Total health spending as %age of Total GDP)\n",
    ">>> 2.2 In other parameters it is broadly second highest or lowest compared to Cluster #2\n",
    ">> 3. Cluster #2\n",
    ">>> 3.1 Highest in \"life expectancy\", \"imports\", \"exports\" and \"income\"\n",
    ">>> 3.2 Lowest in \"Health\" (Total health spending as %age of Total GDP)\n",
    ">> 4. Cluster #0\n",
    ">>> 4.1 Highest in \"total fertility\" (The number of children that would be born to each woman if the current age-fertility rates remain the same.), \"inflation\", \"child mortality\"\n",
    ">>> 4.2 Lowest in \"Life expectancy\", \"gdpp\", \"income\", \"exports"
   ]
  },
  {
   "cell_type": "markdown",
   "metadata": {},
   "source": [
    "### 9. Comparing KMeans and Hierarchial Clustering results it is clear that \n",
    "#### Cluster #0 in KMeans and Cluster #0 of Hierarchial Clustering have lowest of values for \"gdpp\" and \"income\"\n",
    "#### and highest of values for \"child moratlity\""
   ]
  },
  {
   "cell_type": "code",
   "execution_count": 241,
   "metadata": {},
   "outputs": [
    {
     "data": {
      "text/html": [
       "<div>\n",
       "<style scoped>\n",
       "    .dataframe tbody tr th:only-of-type {\n",
       "        vertical-align: middle;\n",
       "    }\n",
       "\n",
       "    .dataframe tbody tr th {\n",
       "        vertical-align: top;\n",
       "    }\n",
       "\n",
       "    .dataframe thead th {\n",
       "        text-align: right;\n",
       "    }\n",
       "</style>\n",
       "<table border=\"1\" class=\"dataframe\">\n",
       "  <thead>\n",
       "    <tr style=\"text-align: right;\">\n",
       "      <th></th>\n",
       "      <th>index</th>\n",
       "      <th>country</th>\n",
       "      <th>gdpp</th>\n",
       "      <th>child_mort</th>\n",
       "      <th>income</th>\n",
       "    </tr>\n",
       "  </thead>\n",
       "  <tbody>\n",
       "    <tr>\n",
       "      <th>0</th>\n",
       "      <td>0</td>\n",
       "      <td>Afghanistan</td>\n",
       "      <td>553</td>\n",
       "      <td>90.2</td>\n",
       "      <td>1610</td>\n",
       "    </tr>\n",
       "    <tr>\n",
       "      <th>1</th>\n",
       "      <td>3</td>\n",
       "      <td>Angola</td>\n",
       "      <td>3530</td>\n",
       "      <td>119.0</td>\n",
       "      <td>5900</td>\n",
       "    </tr>\n",
       "    <tr>\n",
       "      <th>2</th>\n",
       "      <td>17</td>\n",
       "      <td>Benin</td>\n",
       "      <td>758</td>\n",
       "      <td>111.0</td>\n",
       "      <td>1820</td>\n",
       "    </tr>\n",
       "    <tr>\n",
       "      <th>3</th>\n",
       "      <td>21</td>\n",
       "      <td>Botswana</td>\n",
       "      <td>6350</td>\n",
       "      <td>52.5</td>\n",
       "      <td>13300</td>\n",
       "    </tr>\n",
       "    <tr>\n",
       "      <th>4</th>\n",
       "      <td>25</td>\n",
       "      <td>Burkina Faso</td>\n",
       "      <td>575</td>\n",
       "      <td>116.0</td>\n",
       "      <td>1430</td>\n",
       "    </tr>\n",
       "  </tbody>\n",
       "</table>\n",
       "</div>"
      ],
      "text/plain": [
       "   index       country  gdpp  child_mort  income\n",
       "0      0   Afghanistan   553        90.2    1610\n",
       "1      3        Angola  3530       119.0    5900\n",
       "2     17         Benin   758       111.0    1820\n",
       "3     21      Botswana  6350        52.5   13300\n",
       "4     25  Burkina Faso   575       116.0    1430"
      ]
     },
     "execution_count": 241,
     "metadata": {},
     "output_type": "execute_result"
    }
   ],
   "source": [
    "# Filtering country_df_clusID for ClusterID and cluster_labels for '0'\n",
    "focus_countries_df = country_df_clusID.loc[((country_df_clusID['ClusterID'] == 0) & \n",
    "                                            (country_df_clusID['cluster_labels'] == 0)), ['country','gdpp','child_mort','income']]\n",
    "focus_countries_df = focus_countries_df.reset_index()\n",
    "focus_countries_df.head(5)"
   ]
  },
  {
   "cell_type": "code",
   "execution_count": 243,
   "metadata": {},
   "outputs": [
    {
     "data": {
      "image/png": "[encoded data removed]",
      "text/plain": [
       "<Figure size 576x1440 with 1 Axes>"
      ]
     },
     "metadata": {
      "needs_background": "light"
     },
     "output_type": "display_data"
    }
   ],
   "source": [
    " # Let's plot them to visualise how these features are loaded\n",
    "%matplotlib inline\n",
    "fig = plt.figure(figsize = (8,20))\n",
    "plt.scatter(focus_countries_df.gdpp, focus_countries_df.child_mort)\n",
    "plt.xlabel('gdpp')\n",
    "plt.ylabel('child mortality')\n",
    "for i, txt in enumerate(focus_countries_df.country):\n",
    "    plt.annotate(txt, (focus_countries_df.gdpp[i],focus_countries_df.child_mort[i]))\n",
    "plt.tight_layout()\n",
    "plt.show()"
   ]
  },
  {
   "cell_type": "markdown",
   "metadata": {},
   "source": [
    "### Based on the above considering High Child Moratlity and Low gdpp. The top 5 countries needing aid could be\n",
    ">> 1. Haiti\n",
    ">> 2. Sierra Leone\n",
    ">> 3. Chad\n",
    ">> 4. Central African Republic\n",
    ">> 5. Mali"
   ]
  },
  {
   "cell_type": "code",
   "execution_count": 244,
   "metadata": {},
   "outputs": [
    {
     "data": {
      "image/png": "[encoded data removed]",
      "text/plain": [
       "<Figure size 576x1440 with 1 Axes>"
      ]
     },
     "metadata": {
      "needs_background": "light"
     },
     "output_type": "display_data"
    }
   ],
   "source": [
    " # Let's plot them to visualise how these features are loaded\n",
    "%matplotlib inline\n",
    "fig = plt.figure(figsize = (8,20))\n",
    "plt.scatter(focus_countries_df.income, focus_countries_df.child_mort)\n",
    "plt.xlabel('income')\n",
    "plt.ylabel('child mortality')\n",
    "for i, txt in enumerate(focus_countries_df.country):\n",
    "    plt.annotate(txt, (focus_countries_df.income[i],focus_countries_df.child_mort[i]))\n",
    "plt.tight_layout()\n",
    "plt.show()"
   ]
  },
  {
   "cell_type": "markdown",
   "metadata": {},
   "source": [
    "### Again get the same 5 countries as above"
   ]
  },
  {
   "cell_type": "code",
   "execution_count": 248,
   "metadata": {},
   "outputs": [
    {
     "data": {
      "image/png": "[encoded data removed]",
      "text/plain": [
       "<Figure size 576x7200 with 1 Axes>"
      ]
     },
     "metadata": {
      "needs_background": "light"
     },
     "output_type": "display_data"
    }
   ],
   "source": [
    " # Let's plot them to visualise how these features are loaded\n",
    "%matplotlib inline\n",
    "fig = plt.figure(figsize = (8,100))\n",
    "plt.scatter(focus_countries_df.income, focus_countries_df.gdpp)\n",
    "plt.xlabel('income')\n",
    "plt.ylabel('gdpp')\n",
    "for i, txt in enumerate(focus_countries_df.country):\n",
    "    plt.annotate(txt, (focus_countries_df.income[i],focus_countries_df.gdpp[i]))\n",
    "plt.tight_layout()\n",
    "plt.show()"
   ]
  },
  {
   "cell_type": "markdown",
   "metadata": {},
   "source": [
    "### Considering the lowest of both income and gdpp we get\n",
    ">> 1. Burundi\n",
    ">> 2. Liberia\n",
    ">> 3. Niger\n",
    ">> 4. Congo, Dem. Rep.\n",
    ">> 5. Sierra Leone"
   ]
  },
  {
   "cell_type": "markdown",
   "metadata": {},
   "source": [
    "### 10. Conclusion\n",
    "\n",
    "#### However, the 5 countries identified earlier (Haiti, Sierra Leone, Chad, Central African Republic, Mali) when \"child mortality\" was also included are on the lower side here\n",
    "\n",
    "### Therefore, the recommended top 5 countries needing the aid are (Haiti, Sierra Leone, Chad, Central African Republic, Mali)"
   ]
  }
 ],
 "metadata": {
  "kernelspec": {
   "display_name": "Python 3",
   "language": "python",
   "name": "python3"
  },
  "language_info": {
   "codemirror_mode": {
    "name": "ipython",
    "version": 3
   },
   "file_extension": ".py",
   "mimetype": "text/x-python",
   "name": "python",
   "nbconvert_exporter": "python",
   "pygments_lexer": "ipython3",
   "version": "3.7.3"
  }
 },
 "nbformat": 4,
 "nbformat_minor": 2
}
